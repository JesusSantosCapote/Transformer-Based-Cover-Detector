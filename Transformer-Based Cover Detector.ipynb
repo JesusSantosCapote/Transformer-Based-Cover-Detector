{
 "cells": [
  {
   "cell_type": "markdown",
   "metadata": {
    "id": "8E5uN5aFWRkF"
   },
   "source": [
    "# 🚀Setup\n",
    "\n",
    "## Set the runtime type\n",
    "\n",
    "Set the runtime type of this Google Collab to T4 GPU.\n",
    "\n",
    "## Run shell commands\n",
    "\n",
    "You can run shell commands in a cell by using prefix `!`, for example:\n",
    "```\n",
    "!pip install transformers\n",
    "```\n",
    "\n"
   ]
  },
  {
   "cell_type": "code",
   "execution_count": null,
   "metadata": {
    "colab": {
     "base_uri": "https://localhost:8080/"
    },
    "collapsed": true,
    "executionInfo": {
     "elapsed": 2631,
     "status": "ok",
     "timestamp": 1731593838160,
     "user": {
      "displayName": "Jesus Santos Capote",
      "userId": "12226507682868270823"
     },
     "user_tz": -60
    },
    "id": "Rd63u9BxXeGN",
    "outputId": "49372e40-c2fa-4be5-85e4-766f45d6e532"
   },
   "outputs": [
    {
     "name": "stdout",
     "output_type": "stream",
     "text": [
      "Defaulting to user installation because normal site-packages is not writeable\n",
      "Requirement already satisfied: pip in c:\\anaconda3\\lib\\site-packages (24.2)\n",
      "Collecting pip\n",
      "  Using cached pip-24.3.1-py3-none-any.whl.metadata (3.7 kB)\n",
      "Using cached pip-24.3.1-py3-none-any.whl (1.8 MB)\n"
     ]
    },
    {
     "name": "stderr",
     "output_type": "stream",
     "text": [
      "ERROR: To modify pip, please run the following command:\n",
      "C:\\anaconda3\\python.exe -m pip install --upgrade pip\n"
     ]
    }
   ],
   "source": [
    "!pip install --upgrade pip\n",
    "!pip install transformers"
   ]
  },
  {
   "cell_type": "code",
   "execution_count": null,
   "metadata": {
    "id": "fg-_cIO1Xefc"
   },
   "outputs": [],
   "source": [
    "import os\n",
    "\n",
    "#Enviroment variables\n",
    "VIDEOS_MP3_FOLDER_NAME = \"videos_mp3\"\n",
    "VIDEOS_MP3_PATH = os.path.join(os.getcwd(), VIDEOS_MP3_FOLDER_NAME)\n",
    "\n",
    "TRANSCRIPTIONS_FOLDER_NAME = \"transcriptions\"\n",
    "TRANSCRIPTIONS_PATH = os.path.join(os.getcwd(), TRANSCRIPTIONS_FOLDER_NAME)"
   ]
  },
  {
   "cell_type": "code",
   "execution_count": null,
   "metadata": {
    "colab": {
     "base_uri": "https://localhost:8080/"
    },
    "executionInfo": {
     "elapsed": 3,
     "status": "ok",
     "timestamp": 1731593838161,
     "user": {
      "displayName": "Jesus Santos Capote",
      "userId": "12226507682868270823"
     },
     "user_tz": -60
    },
    "id": "Z9HfX-6iXehg",
    "outputId": "1ae6e3ab-09cc-4419-b1e2-402f823771df"
   },
   "outputs": [
    {
     "name": "stdout",
     "output_type": "stream",
     "text": [
      "Folder already exists\n",
      "Folder already exists\n"
     ]
    }
   ],
   "source": [
    "try:\n",
    "  os.mkdir(TRANSCRIPTIONS_PATH)\n",
    "except FileExistsError:\n",
    "  print(\"Folder already exists\")\n",
    "\n",
    "try:\n",
    "  os.mkdir(VIDEOS_MP3_PATH)\n",
    "except FileExistsError:\n",
    "  print(\"Folder already exists\")\n",
    "\n"
   ]
  },
  {
   "cell_type": "markdown",
   "metadata": {
    "id": "aHOtkUvyWRnG"
   },
   "source": [
    "## Install `insanely-fast-whisper`"
   ]
  },
  {
   "cell_type": "code",
   "execution_count": null,
   "metadata": {},
   "outputs": [
    {
     "name": "stdout",
     "output_type": "stream",
     "text": [
      "Looking in links: https://download.pytorch.org/whl/nightly/cpu/torch_nightly.html\n"
     ]
    },
    {
     "name": "stderr",
     "output_type": "stream",
     "text": [
      "ERROR: Could not find a version that satisfies the requirement torch (from versions: none)\n",
      "\n",
      "[notice] A new release of pip is available: 24.2 -> 24.3.1\n",
      "[notice] To update, run: python.exe -m pip install --upgrade pip\n",
      "ERROR: No matching distribution found for torch\n"
     ]
    }
   ],
   "source": [
    "!conda install pytorch torchvision torchaudio pytorch-cuda=12.4 -c pytorch -c nvidia"
   ]
  },
  {
   "cell_type": "code",
   "execution_count": 14,
   "metadata": {
    "id": "NS_U_Pnxs_7k"
   },
   "outputs": [
    {
     "ename": "ModuleNotFoundError",
     "evalue": "No module named 'torch'",
     "output_type": "error",
     "traceback": [
      "\u001b[1;31m---------------------------------------------------------------------------\u001b[0m",
      "\u001b[1;31mModuleNotFoundError\u001b[0m                       Traceback (most recent call last)",
      "Cell \u001b[1;32mIn[14], line 7\u001b[0m\n\u001b[0;32m      1\u001b[0m \u001b[38;5;124;03m\"\"\"I found having the model coded directly in Python more convenient than using\u001b[39;00m\n\u001b[0;32m      2\u001b[0m \u001b[38;5;124;03mthe insanely-fast-whisper CLI because YouTube video file names can contain\u001b[39;00m\n\u001b[0;32m      3\u001b[0m \u001b[38;5;124;03minvalid or unrecognized characters for the bash terminal. Additionally, in my\u001b[39;00m\n\u001b[0;32m      4\u001b[0m \u001b[38;5;124;03mopinion, it is more elegant. The code below is present in the documentation of\u001b[39;00m\n\u001b[0;32m      5\u001b[0m \u001b[38;5;124;03mthe insanely-fast-whisper repository.\"\"\"\u001b[39;00m\n\u001b[1;32m----> 7\u001b[0m \u001b[38;5;28;01mimport\u001b[39;00m \u001b[38;5;21;01mtorch\u001b[39;00m\n\u001b[0;32m      8\u001b[0m \u001b[38;5;28;01mfrom\u001b[39;00m \u001b[38;5;21;01mtransformers\u001b[39;00m \u001b[38;5;28;01mimport\u001b[39;00m pipeline\n\u001b[0;32m      9\u001b[0m \u001b[38;5;28;01mfrom\u001b[39;00m \u001b[38;5;21;01mtransformers\u001b[39;00m\u001b[38;5;21;01m.\u001b[39;00m\u001b[38;5;21;01mutils\u001b[39;00m \u001b[38;5;28;01mimport\u001b[39;00m is_flash_attn_2_available\n",
      "\u001b[1;31mModuleNotFoundError\u001b[0m: No module named 'torch'"
     ]
    }
   ],
   "source": [
    "\"\"\"I found having the model coded directly in Python more convenient than using\n",
    "the insanely-fast-whisper CLI because YouTube video file names can contain\n",
    "invalid or unrecognized characters for the bash terminal. Additionally, in my\n",
    "opinion, it is more elegant. The code below is present in the documentation of\n",
    "the insanely-fast-whisper repository.\"\"\"\n",
    "\n",
    "import torch\n",
    "from transformers import pipeline\n",
    "from transformers.utils import is_flash_attn_2_available\n",
    "\n",
    "pipe = pipeline(\n",
    "    \"automatic-speech-recognition\",\n",
    "    model=\"openai/whisper-large-v3\", # select checkpoint from https://huggingface.co/openai/whisper-large-v3#model-details\n",
    "    torch_dtype=torch.float16,\n",
    "    device=\"cuda:0\", # or mps for Mac devices\n",
    "    model_kwargs={\"attn_implementation\": \"flash_attention_2\"} if is_flash_attn_2_available() else {\"attn_implementation\": \"sdpa\"},\n",
    ")\n",
    "\n",
    "def transcribe(audio_path):\n",
    "  \"\"\"Transcribe audio file to text using Insanely Fast Whisper model\"\"\"\n",
    "  return pipe(\n",
    "  audio_path,\n",
    "  chunk_length_s=30,\n",
    "  batch_size=24,\n",
    "  return_timestamps=True,\n",
    ")"
   ]
  },
  {
   "cell_type": "code",
   "execution_count": null,
   "metadata": {
    "id": "pAlFubuc2qw-"
   },
   "outputs": [],
   "source": [
    "import json\n",
    "\n",
    "def write_transcription_to_disk(trasnscription_json, filename):\n",
    "  \"\"\"Write the transcription to a json file\"\"\"\n",
    "  with open(filename, 'w') as file:\n",
    "    json.dump(trasnscription_json, file)"
   ]
  },
  {
   "cell_type": "code",
   "execution_count": null,
   "metadata": {
    "colab": {
     "base_uri": "https://localhost:8080/"
    },
    "executionInfo": {
     "elapsed": 6175,
     "status": "ok",
     "timestamp": 1731593850509,
     "user": {
      "displayName": "Jesus Santos Capote",
      "userId": "12226507682868270823"
     },
     "user_tz": -60
    },
    "id": "z6gitzJeb-Ge",
    "outputId": "3161971f-223f-49d1-b1e9-48484a9eb03d"
   },
   "outputs": [
    {
     "name": "stderr",
     "output_type": "stream",
     "text": [
      "/usr/local/lib/python3.10/dist-packages/transformers/models/whisper/generation_whisper.py:509: FutureWarning: The input name `inputs` is deprecated. Please make sure to use `input_features` instead.\n",
      "  warnings.warn(\n"
     ]
    },
    {
     "name": "stdout",
     "output_type": "stream",
     "text": [
      "\n",
      "Test Transcription: \n",
      "\n",
      " But what if somebody decides to break it? Be careful that you keep adequate coverage, but look for places to save money. Maybe it's taking longer to get things squared away than the bankers expected. Hiring the wife for one's company may win her taxated retirement income. The boost is helpful, but inadequate. New self-deceiving rags are hurriedly tossed on the two naked bones. What a discussion can ensue when the title of this type of song is in question. There is no dyeing or waxing or gassing needed. Paperweight may be personalized on back while clay is leather hardened. Place work on a flat surface and smooth out. The simplest kind of separate system uses a single self-contained unit. The old shop adage still holds. A good mechanic is usually a bad boss. Both figures would go higher in later years. Some make beautiful chairs, cabinets, chests, dollhouses, etc.\n"
     ]
    }
   ],
   "source": [
    "#Check if insanely-fast-whisper works fine\n",
    "test_file_path = os.path.join(TRANSCRIPTIONS_PATH, \"test_file.json\")\n",
    "\n",
    "transcription = transcribe(\"https://www.signalogic.com/melp/EngSamples/Orig/male.wav\")\n",
    "print(\"\\nTest Transcription: \\n\")\n",
    "print(transcription[\"text\"])\n",
    "write_transcription_to_disk(transcription, test_file_path)"
   ]
  },
  {
   "cell_type": "markdown",
   "metadata": {
    "id": "whViXS9tWRpo"
   },
   "source": [
    "## Install a python library to download youtube videos"
   ]
  },
  {
   "cell_type": "code",
   "execution_count": null,
   "metadata": {
    "colab": {
     "base_uri": "https://localhost:8080/"
    },
    "executionInfo": {
     "elapsed": 2233,
     "status": "ok",
     "timestamp": 1731593852739,
     "user": {
      "displayName": "Jesus Santos Capote",
      "userId": "12226507682868270823"
     },
     "user_tz": -60
    },
    "id": "AYIQb27FYPfz",
    "outputId": "642e6fb2-b4ef-4be0-dd03-fdcbb15b3600"
   },
   "outputs": [
    {
     "name": "stdout",
     "output_type": "stream",
     "text": [
      "Requirement already satisfied: pytubefix in /usr/local/lib/python3.10/dist-packages (8.3.2)\n"
     ]
    }
   ],
   "source": [
    "!pip install pytubefix"
   ]
  },
  {
   "cell_type": "code",
   "execution_count": null,
   "metadata": {
    "id": "c6_7iDytYPiR"
   },
   "outputs": [],
   "source": [
    "from pytubefix import YouTube\n",
    "from pytubefix.cli import on_progress\n",
    "\n",
    "def download_ytvid_as_mp3(url):\n",
    "  \"\"\"Download a youtube video as mp3 and return the name of the file\"\"\"\n",
    "  yt = YouTube(url, on_progress_callback = on_progress)\n",
    "  ys = yt.streams.get_audio_only()\n",
    "  ys.download(mp3=True, output_path=VIDEOS_MP3_PATH)\n",
    "  return yt.title + \".mp3\""
   ]
  },
  {
   "cell_type": "code",
   "execution_count": null,
   "metadata": {
    "colab": {
     "base_uri": "https://localhost:8080/",
     "height": 35
    },
    "executionInfo": {
     "elapsed": 2804,
     "status": "ok",
     "timestamp": 1731593855541,
     "user": {
      "displayName": "Jesus Santos Capote",
      "userId": "12226507682868270823"
     },
     "user_tz": -60
    },
    "id": "tTHjBgfbYPk8",
    "outputId": "2c96d51c-870a-4de2-afc5-61896539b09d"
   },
   "outputs": [
    {
     "name": "stdout",
     "output_type": "stream",
     "text": [
      " ↳ |███████████████████████████████████████████████████████| 100.0%\r"
     ]
    },
    {
     "data": {
      "application/vnd.google.colaboratory.intrinsic+json": {
       "type": "string"
      },
      "text/plain": [
       "'Eagles - Hotel California (Live 1977) (Official Video) [HD].mp3'"
      ]
     },
     "execution_count": 74,
     "metadata": {},
     "output_type": "execute_result"
    }
   ],
   "source": [
    "download_ytvid_as_mp3(\"https://youtu.be/09839DpTctU\")"
   ]
  },
  {
   "cell_type": "markdown",
   "metadata": {
    "id": "0Ag7ixRWWRsH"
   },
   "source": [
    "## Download the lyrics dataset\n",
    "\n",
    "Download this dataset:\n",
    "https://www.kaggle.com/datasets/carlosgdcj/genius-song-lyrics-with-language-information\n",
    "\n",
    "Using the python code suggested in Kaggle web:\n",
    "```\n",
    "import kagglehub\n",
    "\n",
    "# Download latest version\n",
    "path = kagglehub.dataset_download(\"carlosgdcj/genius-song-lyrics-with-language-information\")\n",
    "\n",
    "print(\"Path to dataset files:\", path)\n",
    "```\n",
    "\n",
    "You should find a very large file `song_lyrics.csv`, check it is there.\n"
   ]
  },
  {
   "cell_type": "code",
   "execution_count": null,
   "metadata": {
    "colab": {
     "base_uri": "https://localhost:8080/"
    },
    "executionInfo": {
     "elapsed": 1295,
     "status": "ok",
     "timestamp": 1731593856832,
     "user": {
      "displayName": "Jesus Santos Capote",
      "userId": "12226507682868270823"
     },
     "user_tz": -60
    },
    "id": "VXLd6PMPYWxZ",
    "outputId": "78f4335a-b7a4-4312-b237-d35739005998"
   },
   "outputs": [
    {
     "name": "stdout",
     "output_type": "stream",
     "text": [
      "Warning: Looks like you're using an outdated `kagglehub` version, please consider updating (latest version: 0.3.4)\n",
      "Path to dataset files: /root/.cache/kagglehub/datasets/carlosgdcj/genius-song-lyrics-with-language-information/versions/1/song_lyrics.csv\n"
     ]
    }
   ],
   "source": [
    "import kagglehub\n",
    "\n",
    "# Download latest version\n",
    "dataset_directory = kagglehub.dataset_download(\"carlosgdcj/genius-song-lyrics-with-language-information\")\n",
    "dataset_path = os.path.join(dataset_directory, \"song_lyrics.csv\")\n",
    "print(\"Path to dataset files:\", dataset_path)"
   ]
  },
  {
   "cell_type": "markdown",
   "metadata": {
    "id": "5CKQHb84WRup"
   },
   "source": [
    "## Install more dependencies"
   ]
  },
  {
   "cell_type": "code",
   "execution_count": null,
   "metadata": {
    "colab": {
     "base_uri": "https://localhost:8080/"
    },
    "executionInfo": {
     "elapsed": 2965,
     "status": "ok",
     "timestamp": 1731593859795,
     "user": {
      "displayName": "Jesus Santos Capote",
      "userId": "12226507682868270823"
     },
     "user_tz": -60
    },
    "id": "IsZilYX8Zvms",
    "outputId": "6490f005-1fbf-4fc1-8782-5aae1ad2e0b0"
   },
   "outputs": [
    {
     "name": "stdout",
     "output_type": "stream",
     "text": [
      "Requirement already satisfied: faiss-gpu in /usr/local/lib/python3.10/dist-packages (1.7.2)\n"
     ]
    }
   ],
   "source": [
    "\"\"\"I will use faiss-gpu for faster processing\"\"\"\n",
    "!pip install faiss-gpu"
   ]
  },
  {
   "cell_type": "markdown",
   "metadata": {
    "id": "zfZBa_r3Zs13"
   },
   "source": [
    "\n",
    "\n",
    "# ✏️Development of solution"
   ]
  },
  {
   "cell_type": "code",
   "execution_count": null,
   "metadata": {
    "id": "NJrqveIZYfS8"
   },
   "outputs": [],
   "source": [
    "def get_lyrics_from_youtube_url(youtube_url):\n",
    "  \"\"\"Download a youtube video as mp3, transcribe it with Insanely Fast Whisper\n",
    "  Model, and return the text\"\"\"\n",
    "\n",
    "  mp3_name = download_ytvid_as_mp3(youtube_url)\n",
    "  mp3_path = os.path.join(VIDEOS_MP3_PATH, mp3_name)\n",
    "\n",
    "  lyric_dict = transcribe(mp3_path)\n",
    "\n",
    "  transcription_file_path = os.path.join(TRANSCRIPTIONS_PATH, mp3_name + \".json\")\n",
    "  write_transcription_to_disk(lyric_dict, transcription_file_path)\n",
    "\n",
    "  return lyric_dict[\"text\"]"
   ]
  },
  {
   "cell_type": "code",
   "execution_count": null,
   "metadata": {
    "colab": {
     "base_uri": "https://localhost:8080/",
     "height": 246
    },
    "collapsed": true,
    "executionInfo": {
     "elapsed": 33356,
     "status": "ok",
     "timestamp": 1731593893149,
     "user": {
      "displayName": "Jesus Santos Capote",
      "userId": "12226507682868270823"
     },
     "user_tz": -60
    },
    "id": "ZzSj91EAO9OY",
    "outputId": "604dcb97-5db6-4ada-e9ee-dc10133270a5"
   },
   "outputs": [
    {
     "name": "stderr",
     "output_type": "stream",
     "text": [
      "/usr/local/lib/python3.10/dist-packages/transformers/models/whisper/generation_whisper.py:509: FutureWarning: The input name `inputs` is deprecated. Please make sure to use `input_features` instead.\n",
      "  warnings.warn(\n"
     ]
    },
    {
     "data": {
      "application/vnd.google.colaboratory.intrinsic+json": {
       "type": "string"
      },
      "text/plain": [
       "\" The សូវាប់ពីប្រាប់ពីប្រាប់ពីប្រាប់ពីប្រាប់ពីប្រាប់ពីប្រាប់ពីប្រាប់ពីប្រាប់ពីប្រាប់ពីប្រាប់ពីប្រាប់ពីប្រាប់ពីប្រាប់ពីប្រាប់ពីប្រាប់ពីប្រាប់ពីប្រាប់ពីប្រាប់ពីប្រាប់ពីប្រាប់ពីប្រាប់ពីប្រាប់ពីប្រាប់ពីប្រាប� On a dark desert highway Cool wind in my hair Warm smell of colitas Rising up through the air Up ahead in the distance I saw a shimmering light My head grew heavy and my sight grew dim I had to stop for the night There she stood in the doorway, heard the mission bell And I was thinking to myself, this could be heaven or this could be hell Then she lit up a candle, and she showed me the way There were voices down the corridor, I thought I heard them say Welcome to the Hotel California Such a lovely place, such a lovely face There's plenty of room at the Hotel California Room at Hilltale, California Any time of year You can find it here Her mind is definitely twisted She got the Mercedes Benz She got a lot of pretty, pretty boys She calls friends How they dance in the courtyard Sweet summer sweat Some dance to remember Some dance to forget So I called up the captain Please bring me my wine He said, we haven't had that spirit here I called up the captain, please bring me my wine He said, we haven't had that spirit here since 1969 And still those voices are calling from far away Wake you up in the middle of the night Just to hear them say Welcome to the Hotel California Such a lovely place Such a lovely place Such a lovely place We're living it up at the Hotel California What a nice surprise What a nice surprise What a nice surprise Sing your alibis Mirrors on the ceiling A pink champagne on ice And she said We're all just prisoners here Of our own device And in the master's chambers Gathered for their feast They stab it with their stealing knives But they just can't kill the beast Last thing I remember I was running for the door I had to find a passage back to the place I was before Relaxed at the nightmare we are programmed to receive You can check out anytime you like But you can never leave ស្រូវាប់ពីប់ពីប់ពីប់ពីប់ពីប់ពីប់ពីប់ពីប់ពីប់ពីប់ពីប់ពីប់ពីប់ពីប់ពីប់ពីប់ពីប់ពីប់ពីប់ពីប់ពីប់ពីប់ពីប្រាប់ពីប្រាប់ពីប្រាប់ពីប្រាប់ពីប្រាប់ពីប្រាប់ពីប់ពីប់ពីប់ពីប់ពីប់ពីប់ពីប់ពីប់ពីប់ពីប់ពីប់ពីប់ពីប់ពីប់ពីប់ពីប់ពីប់ពីប់ពីប់ពីប់ពីប់ពីប់ពីប់ពីប់ពីប់ពីប់ពីប់ពីប់ពីប់ពីប់ពីប់ពីប់ពីប់ពីប់ពីប់ពីប់ពីប់ពីប់ពីប់ពីប់ពីប់ពីប់ពីប់ពីប់ពីប់ពីប់ពីប់ពីប់ពីប់ពីប់ពីប់ពីប់ពីប់ពីប់ពីប់ពីប់ពីប់ពីប់ពីប់ពីប់ពីប់ពីប់ពីប់ពីប់ពីប់� 🎶\""
      ]
     },
     "execution_count": 78,
     "metadata": {},
     "output_type": "execute_result"
    }
   ],
   "source": [
    "get_lyrics_from_youtube_url(\"https://youtu.be/09839DpTctU\")"
   ]
  },
  {
   "cell_type": "markdown",
   "metadata": {
    "id": "XEtgTYwMW_bx"
   },
   "source": [
    "## Embeddings extractor"
   ]
  },
  {
   "cell_type": "code",
   "execution_count": null,
   "metadata": {
    "id": "iavbXRrLYh5V"
   },
   "outputs": [],
   "source": [
    "from transformers import BertTokenizer, BertModel # Load Tokenizer and pretrained model\n",
    "import numpy as np\n",
    "\n",
    "tokenizer = BertTokenizer.from_pretrained('bert-base-uncased')\n",
    "model = BertModel.from_pretrained('bert-base-uncased')\n",
    "# Move the model to the GPU\n",
    "device = torch.device('cuda' if torch.cuda.is_available() else 'cpu')\n",
    "model.to(device)\n",
    "\n",
    "def get_bert_embeddings(text_batch):\n",
    "  inputs = tokenizer(text_batch, return_tensors='pt', truncation=True, padding=True)\n",
    "  inputs = {k: v.to('cuda') for k, v in inputs.items()}\n",
    "\n",
    "  with torch.no_grad():\n",
    "    outputs = model(**inputs)\n",
    "\n",
    "  # Faiss only receive numbers of simple presicion\n",
    "  batch_embeddings = outputs.last_hidden_state[:, 0, :].cpu().numpy().astype(\"float32\")\n",
    "\n",
    "  # Clear GPU cache:\n",
    "  torch.cuda.empty_cache()\n",
    "\n",
    "  return batch_embeddings"
   ]
  },
  {
   "cell_type": "code",
   "execution_count": null,
   "metadata": {
    "colab": {
     "base_uri": "https://localhost:8080/"
    },
    "executionInfo": {
     "elapsed": 444,
     "status": "ok",
     "timestamp": 1731593896540,
     "user": {
      "displayName": "Jesus Santos Capote",
      "userId": "12226507682868270823"
     },
     "user_tz": -60
    },
    "id": "hUX1LYPeYh7y",
    "outputId": "ad0af86d-b43f-48ad-a0cc-04f5f6c71cf3"
   },
   "outputs": [
    {
     "name": "stdout",
     "output_type": "stream",
     "text": [
      "Test embedding: \n",
      "\n",
      "[[-1.54148474e-01 -4.04330134e-01  8.98521423e-01  4.76938523e-02\n",
      "   1.44223660e-01 -4.33926493e-01 -1.95914671e-01  3.28730762e-01\n",
      "   5.53251766e-02 -7.29216337e-01  2.24528447e-01  4.01933461e-01\n",
      "   5.08906879e-03 -6.28654510e-02 -3.26610565e-01  6.63785636e-01\n",
      "  -1.16367526e-01  3.31107318e-01  6.06401712e-02  6.10687360e-02\n",
      "  -4.52740550e-01  1.12210184e-01  6.03751361e-01  2.59096712e-01\n",
      "   1.70627519e-01 -7.42425695e-02 -1.91678196e-01 -3.46381962e-01\n",
      "  -3.55293065e-01  2.74351925e-01 -1.78753659e-01  4.08199400e-01\n",
      "  -1.86885491e-01 -7.00560033e-01  2.77274579e-01 -4.05105837e-02\n",
      "   2.88002163e-01  1.84421152e-01  3.50446612e-01  3.18620563e-01\n",
      "  -4.95715141e-01  2.74117351e-01  4.98141855e-01 -2.57696331e-01\n",
      "  -4.91634071e-01  4.01091985e-02 -5.13043499e+00  3.63768786e-01\n",
      "  -1.13698021e-01 -6.39739335e-01 -1.01860881e-01 -1.23607010e-01\n",
      "  -1.69595852e-01  5.54351449e-01  7.84768879e-01  4.62487578e-01\n",
      "   2.56723762e-01  4.48112607e-01 -8.22907314e-02 -3.20638984e-01\n",
      "   4.71664757e-01  1.59290135e-01 -2.35320628e-01  6.67425632e-01\n",
      "  -7.35767633e-02  2.03315184e-01 -3.13696219e-03 -5.27654827e-01\n",
      "  -1.91213399e-01  3.85757089e-01 -1.51279315e-01 -4.74394321e-01\n",
      "   1.70525908e-01 -8.16766381e-01  3.34916592e-01 -3.48223060e-01\n",
      "  -3.59180331e-01 -2.88854428e-02 -3.22325945e-01 -5.07389069e-01\n",
      "  -1.78693533e-01  3.89801323e-01 -1.62407696e-01  2.89888419e-02\n",
      "   1.83693618e-01  5.53528853e-02 -2.54549086e-01  3.96939106e-02\n",
      "  -3.24158728e-01  4.33461100e-01 -4.22701716e-01 -7.21664608e-01\n",
      "   3.11888158e-01  4.24141258e-01  1.84804514e-01 -2.64664263e-01\n",
      "   8.08299124e-01  4.00293171e-02  6.40473306e-01  3.71178687e-01\n",
      "  -1.37816653e-01 -4.30235416e-01 -1.00776449e-01 -1.39912200e+00\n",
      "  -1.12400383e-01  3.43969136e-01  8.45974386e-02  1.06728576e-01\n",
      "  -3.54505390e-01 -1.34079957e+00  5.52186430e-01 -1.29492849e-01\n",
      "   2.98105240e-01 -6.48248866e-02  2.60721028e-01 -2.40521148e-01\n",
      "   4.16506886e-01  4.83092070e-02  1.56378105e-01 -1.29273787e-01\n",
      "   4.05703008e-01  2.61241794e-01  3.15660015e-02 -7.01701581e-01\n",
      "   1.91442162e-01  1.09302878e-01  1.01804081e-03  5.10257483e-01\n",
      "   1.69249430e-01 -4.28329669e-02  8.56307745e-01  3.24699372e-01\n",
      "  -2.81175584e-01 -4.90417093e-01  1.55572474e-01  4.23668995e-02\n",
      "   1.17913537e-01  3.22040282e-02  5.40766478e-01 -2.34358355e-01\n",
      "  -1.31153584e-01  4.21540476e-02 -1.83611953e+00 -4.35354114e-02\n",
      "   1.20358288e+00 -2.22524121e-01 -2.46895358e-01 -2.58679152e-01\n",
      "  -3.32923323e-01  1.36205018e-01  7.98851430e-01  6.10487342e-01\n",
      "  -4.21730489e-01 -2.85597742e-01 -3.08430910e-01  1.94488600e-01\n",
      "  -1.01987347e-01 -1.86662167e-01 -9.27494317e-02  1.30155692e-02\n",
      "  -2.90786266e-01  1.78803757e-01 -9.76494402e-02 -3.11222523e-01\n",
      "  -2.07871735e-01 -2.32987285e-01  1.72190428e-01  1.81933150e-01\n",
      "  -3.93579662e-01  3.85056406e-01  2.85411179e-01  6.75786495e-01\n",
      "   1.00363111e+00  4.11053240e-01  3.23920324e-02  4.20401156e-01\n",
      "  -1.64173439e-01  2.63198465e-01  4.56837267e-01  2.01135814e-01\n",
      "  -5.53586662e-01  6.84983313e-01  5.73301129e-02 -2.73038685e-01\n",
      "   2.43712589e-01  2.57511109e-01  5.43730557e-01 -3.14444266e-02\n",
      "  -3.19784833e-03 -4.49422807e-01 -2.86222517e-01 -6.37324214e-01\n",
      "   1.13090090e-01  3.04180291e-02  1.24488175e-01 -3.46946955e-01\n",
      "   9.20850992e-01 -3.13634723e-01 -2.43252516e-01  9.92834568e-02\n",
      "  -2.35206774e-03  3.48111063e-01  3.24660629e-01 -2.85243988e-01\n",
      "  -2.89522409e-01  4.37506962e+00 -8.96734148e-02 -8.04659426e-02\n",
      "   2.47694105e-01 -2.61807919e-01 -1.41101658e-01 -5.52089214e-01\n",
      "   1.90486521e-01 -2.50576705e-01  1.28902569e-01  5.26618898e-01\n",
      "   5.99078417e-01 -2.40856990e-01  2.82017171e-01  4.85450923e-02\n",
      "   2.75046289e-01  2.05956116e-01 -6.71346307e-01 -1.25709027e-02\n",
      "  -5.52300870e-01 -1.45783424e-01 -3.85115057e-01 -2.48503625e-01\n",
      "   6.26704276e-01 -1.77083325e+00 -1.36803970e-01 -1.10410944e-01\n",
      "   1.38907090e-01  7.72627890e-01 -1.43528938e-01  2.08550334e-01\n",
      "  -1.08164839e-01 -3.75522673e-02  4.41451848e-01 -1.56436130e-01\n",
      "  -2.56705999e-01  5.10658145e-01  1.09356187e-01  2.82169104e-01\n",
      "  -5.34259021e-01  3.03201199e-01  6.40780851e-02 -4.89457428e-01\n",
      "   6.63000405e-01 -4.01234955e-01  3.43204767e-01  2.59121776e-01\n",
      "  -1.55334368e-01 -5.33435345e-02  3.19787920e-01  2.19424322e-01\n",
      "  -2.57535398e-01  9.27857682e-02 -4.07720506e-01 -3.12965751e-01\n",
      "  -7.93937325e-01 -8.64576638e-01 -4.08358544e-01  2.79197693e-01\n",
      "  -1.09832966e+00 -5.46298623e-01  2.44901795e-02 -3.88772227e-02\n",
      "  -2.78177083e-01 -1.55773103e-01  7.36747533e-02  5.75330853e-01\n",
      "  -6.29063070e-01 -1.51387274e+00 -1.43654674e-01 -3.22048843e-01\n",
      "   9.78896022e-01 -8.66323709e-02 -5.24241552e-02 -3.58166337e-01\n",
      "  -7.23728016e-02  6.88829780e-01 -2.67399400e-01 -5.02241664e-02\n",
      "  -6.45515174e-02 -4.83568043e-01  8.76763940e-01 -2.56297827e-01\n",
      "   1.72066659e-01  5.13946414e-01 -5.97636938e-01  3.12410444e-01\n",
      "  -1.96209937e-01 -7.16510415e-01 -3.80514935e-02  9.64639261e-02\n",
      "   4.08984944e-02  1.91064656e-01  5.00531343e-04 -4.35764581e-01\n",
      "  -4.10297096e-01  6.61842991e-04  5.39519846e-01 -1.30095750e-01\n",
      "  -1.53761253e-01 -2.98311740e-01 -2.93118119e-01 -3.10622573e-01\n",
      "  -3.44368243e+00  5.26893020e-01 -5.75063378e-02 -5.49244344e-01\n",
      "   5.36893725e-01  1.77778170e-01  6.10000610e-01 -4.96067762e-01\n",
      "  -9.61048305e-01  4.09568787e-01  4.70482528e-01 -4.58711863e-01\n",
      "   4.74981844e-01  2.08526235e-02  7.01199472e-01 -1.04554050e-01\n",
      "   4.59453613e-01 -4.43594724e-01  6.21828198e-01 -4.25230980e-01\n",
      "  -1.56498596e-01 -2.54328251e-01  6.32545173e-01  9.03532505e-02\n",
      "   1.21249139e-01  6.69761896e-01 -9.74912286e-01 -7.41683185e-01\n",
      "  -3.46828461e-01 -3.54987502e-01 -2.65186548e-01 -3.63838553e-01\n",
      "   2.00788051e-01  1.11923322e-01  3.42715494e-02 -1.07515919e+00\n",
      "  -5.30266799e-02 -9.12220538e-01  6.89433217e-01  3.06669086e-01\n",
      "   3.28730673e-01  1.01856017e+00  3.10981631e-01  1.24532834e-01\n",
      "   6.31936312e-01 -1.73533216e-01  1.03260756e+00 -2.38750458e-01\n",
      "   5.69948256e-01  7.71157622e-01  8.76532793e-02  9.35104847e-01\n",
      "   1.52281702e+00 -9.11014080e-02 -7.26782978e-02  9.54956189e-02\n",
      "   5.48696637e-01  3.65435630e-01  1.27084523e-01 -6.73664436e-02\n",
      "   5.75767875e-01 -5.02741396e-01  1.54405102e-01 -4.40163761e-01\n",
      "  -2.47079074e-01 -3.99088293e-01  5.40036142e-01 -3.53899419e-01\n",
      "   8.45902383e-01  2.86455542e-01 -2.98352003e-01  3.92486304e-01\n",
      "  -5.71191132e-01 -2.00601411e+00 -3.16435158e-01 -8.08767229e-02\n",
      "  -1.88220367e-01  2.05644164e-02  1.19268887e-01  3.77267659e-01\n",
      "  -4.42277938e-01 -2.18896002e-01 -2.22690292e-02  4.17242676e-01\n",
      "  -6.40021086e-01 -2.01708823e-01  8.83806422e-02  7.40898311e-01\n",
      "  -8.03434491e-01 -3.26433510e-01 -6.39533848e-02  5.30392528e-01\n",
      "   1.51844457e-01 -3.90054941e-01 -2.81122178e-02  2.73990840e-01\n",
      "   1.96717799e-01 -1.09334064e+00  7.14477122e-01 -5.95243216e-01\n",
      "   2.02941194e-01 -2.41420656e-01 -3.86905581e-01  2.17649072e-01\n",
      "  -1.59365833e-01 -1.67755764e-02 -1.25547421e+00  3.65748584e-01\n",
      "   5.22365272e-01  1.80205535e-02 -4.72997546e-01 -2.00279132e-01\n",
      "   1.42251760e-01 -1.37188777e-01  1.26716065e+00 -7.03023851e-01\n",
      "   1.78589836e-01  6.30298793e-01 -2.30998844e-01 -7.35919058e-01\n",
      "   6.42966807e-01  3.43144685e-02 -1.18301213e-01 -2.73401558e-01\n",
      "   1.66832685e-01  8.34213849e-03  3.05483729e-01 -2.35909432e-01\n",
      "  -6.73203766e-01  2.63508502e-02  1.21998722e-02 -1.06005147e-01\n",
      "  -6.53074861e-01 -9.09899920e-02  1.09009251e-01  2.34111566e-02\n",
      "  -4.01895911e-01  3.27737153e-01 -3.40640604e-01 -4.95057046e-01\n",
      "   4.42221761e-01 -3.46879005e-01 -7.68502653e-01 -1.07739428e-02\n",
      "   3.74116004e-02  4.22998786e-01 -2.72013396e-01  1.42441362e-01\n",
      "   8.26038003e-01  1.59203693e-01  3.73238772e-01  7.82150090e-01\n",
      "  -1.00450784e-01 -6.08931124e-01  4.90974158e-01 -3.69280219e-01\n",
      "  -3.49439740e-01 -5.38404107e-01 -2.93650538e-01 -2.29502216e-01\n",
      "  -1.05497085e-01 -7.68536851e-02 -2.62934852e+00 -3.25863183e-01\n",
      "   4.08161789e-01  8.59697312e-02 -1.65878028e-01 -1.31334169e-02\n",
      "  -2.38518938e-01  4.57854092e-01  4.30614471e-01 -1.49896070e-01\n",
      "  -1.38169602e-01 -1.19771890e-01 -3.56335223e-01  2.13179603e-01\n",
      "   7.08802760e-01 -2.78404683e-01 -2.39546392e-02 -2.96386361e-01\n",
      "  -2.27169529e-01 -5.75051606e-01 -4.45992053e-02  1.49004906e-01\n",
      "  -1.81471035e-01 -4.28441495e-01 -6.12380393e-02 -7.34023526e-02\n",
      "  -5.23244977e-01  3.08617711e-01  1.17522022e-02  4.24732834e-01\n",
      "  -1.03535987e-01 -4.22247797e-01 -6.00406706e-01 -1.35786071e-01\n",
      "   2.41880924e-01  1.11402726e+00 -2.55860779e-02 -1.16629429e-01\n",
      "   6.23253942e-01 -7.51314387e-02 -1.24985325e+00  4.63892519e-01\n",
      "   7.28252172e-01 -1.54362053e-01  1.10722697e+00 -2.15840340e-02\n",
      "   1.63986042e-01  1.27029598e-01 -7.57204235e-01 -5.61417937e-01\n",
      "  -4.78551567e-01 -3.59447360e-01 -3.39239150e-01 -4.02167231e-01\n",
      "  -6.02897048e-01 -3.43432665e-01 -2.05922946e-01  3.24529529e-01\n",
      "  -3.50455254e-01 -2.18652442e-01  5.69584727e-01  1.79615930e-01\n",
      "  -4.68011856e-01  4.26417381e-01 -2.33629361e-01 -1.19997847e+00\n",
      "  -1.98291004e-01 -2.06261113e-01 -1.78243384e-01 -3.89034390e-01\n",
      "   7.19977379e-01  3.14576998e-02 -9.54747200e-01  3.14144015e-01\n",
      "  -2.97712475e-01  4.76310164e-01 -3.87635797e-01 -2.03972533e-01\n",
      "   1.38474837e-01 -8.00477028e-01 -1.99111238e-01 -1.20892689e-01\n",
      "   1.39465004e-01  8.41017067e-01 -2.32044831e-01 -1.95688471e-01\n",
      "  -9.24096406e-02 -3.21619123e-01  4.41731483e-01  1.16744213e-01\n",
      "  -5.02372324e-01 -8.53141069e-01 -1.48083031e-01  3.55239868e-01\n",
      "   9.67445672e-02 -3.82342100e-01  1.46500245e-01  1.80745259e-01\n",
      "  -2.60471225e-01  3.13974619e-02  2.10461184e-01  6.10974105e-03\n",
      "   3.04365605e-01  2.53153890e-01 -8.66746083e-02 -2.74853706e-01\n",
      "   7.01773822e-01 -3.92843336e-01  2.79931605e-01  1.85923189e-01\n",
      "   2.37840354e-01 -1.39106698e-02  3.27238619e-01  3.83875668e-01\n",
      "  -1.69829860e-01 -7.17175484e-01  3.86470407e-01 -7.05297112e-01\n",
      "   1.51924300e+00  8.30242574e-01 -3.51268798e-01 -2.13605776e-01\n",
      "   3.23339343e-01  5.98207414e-02  5.17852865e-02  7.05783427e-01\n",
      "  -3.22844774e-01  9.78230774e-01 -2.01903328e-01  3.03314000e-01\n",
      "  -3.47594649e-01  1.77489311e-01  5.09884000e-01  3.11075270e-01\n",
      "   2.22268384e-02  1.19883813e-01 -7.80628681e-01  6.61969334e-02\n",
      "  -9.92611647e-02  9.16655302e-01  4.06224698e-01 -2.01754615e-01\n",
      "   1.04437739e-01  5.03197789e-01 -2.26449296e-01  9.40759405e-02\n",
      "   9.62845981e-02  9.85215366e-01  1.78724661e-01 -1.78147674e-01\n",
      "  -9.52835158e-02  3.10431540e-01 -9.48227882e-01 -2.00556546e-01\n",
      "  -5.82425058e-01  3.55087906e-01  7.22950473e-02 -2.28343159e-01\n",
      "   5.38441300e-01 -3.99988890e-02  1.06616843e+00  8.63884985e-02\n",
      "  -3.03564191e-01  5.64532220e-01 -3.04853916e-01 -1.99883014e-01\n",
      "   4.11593884e-01  5.68756104e-01  7.47939706e-01  3.46861601e-01\n",
      "  -3.32937151e-01  7.89725929e-02  3.63321602e-01 -3.14785019e-02\n",
      "   3.22733335e-02 -5.41220009e-01  8.90015513e-02  8.36247727e-02\n",
      "  -4.35796469e-01  1.41966239e-01  6.23029292e-01 -3.22732359e-01\n",
      "  -9.12280604e-02  1.67251274e-01 -2.11309686e-01  4.80545647e-02\n",
      "   1.95635602e-01 -6.66192949e-01  3.79587077e-02  3.92112851e-01\n",
      "  -1.86558738e-01  1.10473335e+00  5.99523723e-01  3.14911574e-01\n",
      "   4.22575206e-01 -2.38886867e-02 -2.76863635e-01 -9.24099505e-01\n",
      "   2.68029451e-01  9.70240474e-01  4.82834429e-01 -3.93357396e-01\n",
      "  -7.27735907e-02  9.04398263e-01 -3.01350236e-01  2.77806640e-01\n",
      "  -2.22985819e-02  2.22682178e-01  4.49295849e-01  4.55616385e-01\n",
      "  -2.77633071e-01  5.32724202e-01 -5.53539507e-02  5.12565374e-01\n",
      "   2.18607381e-01  7.64927745e-01 -6.67006910e-01  5.70939422e-01\n",
      "  -6.47990629e-02 -3.89788300e-02 -3.37764025e-01 -8.50697279e-01\n",
      "   3.26755285e-01  2.44803056e-01  2.65486300e-01  1.07950628e-01\n",
      "  -1.22150004e-01 -3.63074630e-01  4.38749611e-01 -7.92955279e-01\n",
      "  -4.87344176e-01 -2.81742159e-02  2.57007569e-01 -3.57762277e-01\n",
      "   3.69661033e-01  1.99420810e-01 -2.27001831e-01 -6.18609309e-01\n",
      "   8.70547295e-01 -8.79709572e-02  1.13558680e-01  1.91689268e-01\n",
      "  -2.55916804e-01  7.06832051e-01 -1.40765995e-01  5.60530245e-01\n",
      "   2.22285017e-01  4.01419997e-01  4.73933816e-01  8.16155791e-01\n",
      "   1.73725486e-01  1.08624421e-01  5.05655855e-02  2.71968059e-02\n",
      "   4.65435199e-02  5.88120669e-02 -3.01670194e-01 -8.82872939e-01\n",
      "   3.31456810e-01 -2.83670694e-01  3.53331178e-01  1.25012442e-01\n",
      "   6.97715906e-03  3.02446365e-01  2.81840116e-01 -9.91636305e-04\n",
      "  -8.67279172e-01 -1.43567279e-01 -4.85753596e-01  8.91828597e-01\n",
      "  -4.58660014e-02  4.96447295e-01 -1.62679628e-01  3.27778727e-01\n",
      "  -3.37821722e-01 -3.99879724e-01 -3.46091807e-01 -5.25616229e-01\n",
      "  -5.47899961e-01  2.45479688e-01 -7.03407452e-02  5.19151725e-02\n",
      "  -3.89756632e+00 -1.64863735e-01 -4.75121111e-01  6.72490057e-03\n",
      "  -8.97530079e-01 -4.32397038e-01 -4.16764878e-02 -3.96219164e-01\n",
      "   2.65613914e-01 -3.88069957e-01 -4.18478586e-02  3.44267696e-01\n",
      "  -5.79037547e-01  2.03830659e-01  1.94125712e-01  8.24487031e-01]]\n",
      "Lenght:  768\n"
     ]
    }
   ],
   "source": [
    "# Test if the embedding extractor works\n",
    "with open(test_file_path, 'r') as file:\n",
    "  lyric = json.load(file)\n",
    "  print(\"Test embedding: \\n\")\n",
    "  emb = get_bert_embeddings(lyric[\"text\"])\n",
    "  print(emb)\n",
    "  print(\"Lenght: \", len(emb[0]))"
   ]
  },
  {
   "cell_type": "markdown",
   "metadata": {
    "id": "s7NUTVdNXD38"
   },
   "source": [
    "## Load lyrics database"
   ]
  },
  {
   "cell_type": "code",
   "execution_count": null,
   "metadata": {
    "id": "NHliUrsJYrA_"
   },
   "outputs": [],
   "source": [
    "import pandas as pd\n",
    "\n",
    "chunksize = 500000\n",
    "top_n = 1000\n",
    "\n",
    "top_views_df = pd.DataFrame()\n",
    "\n",
    "for chunk in pd.read_csv(dataset_path, chunksize=chunksize):\n",
    "    chunk_top = chunk.nlargest(top_n, 'views')\n",
    "    top_views_df = pd.concat([top_views_df, chunk_top])\n",
    "    top_views_df = top_views_df.nlargest(top_n, 'views')"
   ]
  },
  {
   "cell_type": "code",
   "execution_count": null,
   "metadata": {
    "colab": {
     "base_uri": "https://localhost:8080/",
     "height": 486
    },
    "executionInfo": {
     "elapsed": 11,
     "status": "ok",
     "timestamp": 1731594054404,
     "user": {
      "displayName": "Jesus Santos Capote",
      "userId": "12226507682868270823"
     },
     "user_tz": -60
    },
    "id": "4QBcREWOHJHU",
    "outputId": "31417ecb-fc49-4a63-ec82-38ebcdac4df1"
   },
   "outputs": [
    {
     "data": {
      "application/vnd.google.colaboratory.intrinsic+json": {
       "summary": "{\n  \"name\": \"top_views_df\",\n  \"rows\": 1000,\n  \"fields\": [\n    {\n      \"column\": \"title\",\n      \"properties\": {\n        \"dtype\": \"string\",\n        \"num_unique_values\": 985,\n        \"samples\": [\n          \"Silent Night\",\n          \"\\u200bthe remedy for a broken heart why am I so in love\",\n          \"Adore You\"\n        ],\n        \"semantic_type\": \"\",\n        \"description\": \"\"\n      }\n    },\n    {\n      \"column\": \"tag\",\n      \"properties\": {\n        \"dtype\": \"category\",\n        \"num_unique_values\": 6,\n        \"samples\": [\n          \"pop\",\n          \"rap\",\n          \"misc\"\n        ],\n        \"semantic_type\": \"\",\n        \"description\": \"\"\n      }\n    },\n    {\n      \"column\": \"artist\",\n      \"properties\": {\n        \"dtype\": \"category\",\n        \"num_unique_values\": 432,\n        \"samples\": [\n          \"Kid Cudi\",\n          \"Olivia Rodrigo\",\n          \"Nio Garca, Casper Mgico & Bad Bunny\"\n        ],\n        \"semantic_type\": \"\",\n        \"description\": \"\"\n      }\n    },\n    {\n      \"column\": \"year\",\n      \"properties\": {\n        \"dtype\": \"number\",\n        \"std\": 20,\n        \"min\": 1623,\n        \"max\": 2022,\n        \"num_unique_values\": 55,\n        \"samples\": [\n          1995,\n          2016,\n          2004\n        ],\n        \"semantic_type\": \"\",\n        \"description\": \"\"\n      }\n    },\n    {\n      \"column\": \"views\",\n      \"properties\": {\n        \"dtype\": \"number\",\n        \"std\": 1713505,\n        \"min\": 1242084,\n        \"max\": 23351415,\n        \"num_unique_values\": 1000,\n        \"samples\": [\n          1804078,\n          1494175,\n          1488663\n        ],\n        \"semantic_type\": \"\",\n        \"description\": \"\"\n      }\n    },\n    {\n      \"column\": \"features\",\n      \"properties\": {\n        \"dtype\": \"category\",\n        \"num_unique_values\": 300,\n        \"samples\": [\n          \"{\\\"Tame Impala\\\"}\",\n          \"{\\\"Skylar Grey\\\"}\",\n          \"{\\\"George Clinton\\\",Thundercat}\"\n        ],\n        \"semantic_type\": \"\",\n        \"description\": \"\"\n      }\n    },\n    {\n      \"column\": \"lyrics\",\n      \"properties\": {\n        \"dtype\": \"string\",\n        \"num_unique_values\": 1000,\n        \"samples\": [\n          \"[Verse 1]\\nI heard that you're settled down\\nThat you found a girl and you're married now\\nI heard that your dreams came true\\nGuess she gave you things I didn't give to you\\nOld friend, why are you so shy?\\nAin't like you to hold back or hide from the light\\n\\n[Pre-Chorus]\\nI hate to turn up out of the blue, uninvited\\nBut I couldn't stay away, I couldn't fight it\\nI had hoped you'd see my face\\nAnd that you'd be reminded that for me, it isn't over\\n\\n[Chorus]\\nNever mind, I'll find someone like you\\nI wish nothing but the best for you, too\\nDon't forget me, I beg\\nI remember you said\\nSometimes it lasts in love, but sometimes it hurts instead\\nSometimes it lasts in love, but sometimes it hurts instead\\n[Verse 2]\\nYou know how the time flies\\nOnly yesterday was the time of our lives\\nWe were born and raised in a summer haze\\nBound by the surprise of our glory days\\n\\n[Pre-Chorus]\\nI hate to turn up out of the blue, uninvited\\nBut I couldn't stay away, I couldn't fight it\\nI had hoped you'd see my face\\nAnd that you'd be reminded that for me, it isn't over\\n\\n[Chorus]\\nNever mind, I'll find someone like you\\nI wish nothing but the best for you, too\\nDon't forget me, I beg\\nI remember you said\\nSometimes it lasts in love, but sometimes it hurts instead\\n\\n[Bridge]\\nNothing compares, no worries or cares\\nRegrets and mistakes, they're memories made\\nWho would have known how bittersweet this would taste?\\n\\n[Breakdown]\\nNever mind, I'll find someone like you\\nI wish nothing but the best for you\\nDon't forget me, I beg\\nI remember you said\\nSometimes it lasts in love, but sometimes it hurts instead\\n[Chorus]\\nNever mind, I'll find someone like you\\nI wish nothing but the best for you, too\\nDon't forget me, I beg\\nI remember you said\\nSometimes it lasts in love, but sometimes it hurts instead\\nSometimes it lasts in love, but sometimes it hurts instead\",\n          \"[Verse 1]\\nIt's like you got superpowers\\nTurn my minutes into hours\\nYou got more than 20/20, babe\\nMade of glass, the way you see through me\\nYou know me better than I do\\nCan't seem to keep nothing from you\\nHow you touch my soul from the outside\\nPermeate my ego and my pride\\n\\n[Chorus]\\nI wanna love me (Ooh)\\nThe way that you love me (Ooh)\\nOoh, for all of my pretty and all of my ugly too\\nI'd love to see me from your point of view\\nI wanna trust me (Trust me)\\nThe way that you trust me (Trust me)\\nOoh, 'cause nobody ever loved me like you do\\nI'd love to see me from your point of view\\n\\n[Verse 2]\\nI'm g\\u0435tting used to receiving\\nStill g\\u0435tting good at not leaving\\nI'ma love you even though I'm scared (Oh, scared)\\nLearnin' to be grateful for myself (Oh, oh, oh)\\nYou love my lips 'cause they say the\\nThings we've always been afraid of\\nI can feel it startin' to subside\\nLearnin' to believe in what is mine\\n[Chorus]\\nI wanna love me (Ooh)\\nThe way that you love me (Ooh)\\nOoh, for all of my pretty and all of my ugly too\\nI'd love to see me from your point of view\\nI wanna trust me (Trust me)\\nThe way that you trust me (Trust me)\\nOoh, 'cause nobody ever loved me like you do\\nI'd love to see me from your point of view\\n\\n[Bridge]\\nI couldn't believe it or see it for myself\\nKnow I be impatient\\nBut now I'm out here, fallin', fallin'\\nFrozen, slowly thawing, got me right\\nI won't keep you waitin', waitin'\\nAll my baggage fadin' safely (My baggage fadin')\\nAnd if my eyes deceive me\\nWon't let them stray too far away\\n\\n[Chorus]\\nI wanna love me (Ooh)\\nThe way that you love me (Ooh)\\nOoh, for all of my pretty and all of my ugly too\\nI'd love to see me from your point of view\\nI wanna trust me, ooh (Trust me)\\nThe way that you trust me, baby (Trust me)\\n'Cause nobody ever loved me like you do\\nI'd love to see me from your point of view (Oh)\\nYeah\",\n          \"[Verse 1]\\nImagine there's no heaven\\nIt's easy if you try\\nNo hell below us\\nAbove us, only sky\\nImagine all the people\\nLiving for today\\nI\\n\\n[Verse 2]\\nImagine there's no countries\\nIt isn't hard to do\\nNothing to kill or die for\\nAnd no religion too\\nImagine all the people\\nLiving life in peace\\nYou\\n\\n[Chorus]\\nYou may say I'm a dreamer\\nBut I'm not the only one\\nI hope someday you'll join us\\nAnd the world will be as one\\n[Verse 3]\\nImagine no possessions\\nI wonder if you can\\nNo need for greed or hunger\\nA brotherhood of man\\nImagine all the people\\nSharing all the world\\nYou\\n\\n[Chorus]\\nYou may say I'm a dreamer\\nBut I'm not the only one\\nI hope someday you'll join us\\nAnd the world will live as one\"\n        ],\n        \"semantic_type\": \"\",\n        \"description\": \"\"\n      }\n    },\n    {\n      \"column\": \"id\",\n      \"properties\": {\n        \"dtype\": \"number\",\n        \"std\": 1840078,\n        \"min\": 28,\n        \"max\": 7844309,\n        \"num_unique_values\": 1000,\n        \"samples\": [\n          51294,\n          6094314,\n          63416\n        ],\n        \"semantic_type\": \"\",\n        \"description\": \"\"\n      }\n    },\n    {\n      \"column\": \"language_cld3\",\n      \"properties\": {\n        \"dtype\": \"category\",\n        \"num_unique_values\": 10,\n        \"samples\": [\n          \"vi\",\n          \"en\",\n          \"it\"\n        ],\n        \"semantic_type\": \"\",\n        \"description\": \"\"\n      }\n    },\n    {\n      \"column\": \"language_ft\",\n      \"properties\": {\n        \"dtype\": \"category\",\n        \"num_unique_values\": 11,\n        \"samples\": [\n          \"fil\",\n          \"es\",\n          \"ko\"\n        ],\n        \"semantic_type\": \"\",\n        \"description\": \"\"\n      }\n    },\n    {\n      \"column\": \"language\",\n      \"properties\": {\n        \"dtype\": \"category\",\n        \"num_unique_values\": 8,\n        \"samples\": [\n          \"en\",\n          \"it\",\n          \"es\"\n        ],\n        \"semantic_type\": \"\",\n        \"description\": \"\"\n      }\n    }\n  ]\n}",
       "type": "dataframe",
       "variable_name": "top_views_df"
      },
      "text/html": [
       "\n",
       "  <div id=\"df-ab284ef4-3066-45a0-846a-8fc2f2a8c571\" class=\"colab-df-container\">\n",
       "    <div>\n",
       "<style scoped>\n",
       "    .dataframe tbody tr th:only-of-type {\n",
       "        vertical-align: middle;\n",
       "    }\n",
       "\n",
       "    .dataframe tbody tr th {\n",
       "        vertical-align: top;\n",
       "    }\n",
       "\n",
       "    .dataframe thead th {\n",
       "        text-align: right;\n",
       "    }\n",
       "</style>\n",
       "<table border=\"1\" class=\"dataframe\">\n",
       "  <thead>\n",
       "    <tr style=\"text-align: right;\">\n",
       "      <th></th>\n",
       "      <th>title</th>\n",
       "      <th>tag</th>\n",
       "      <th>artist</th>\n",
       "      <th>year</th>\n",
       "      <th>views</th>\n",
       "      <th>features</th>\n",
       "      <th>lyrics</th>\n",
       "      <th>id</th>\n",
       "      <th>language_cld3</th>\n",
       "      <th>language_ft</th>\n",
       "      <th>language</th>\n",
       "    </tr>\n",
       "  </thead>\n",
       "  <tbody>\n",
       "    <tr>\n",
       "      <th>2029340</th>\n",
       "      <td>Despacito Remix</td>\n",
       "      <td>pop</td>\n",
       "      <td>Luis Fonsi &amp; Daddy Yankee</td>\n",
       "      <td>2017</td>\n",
       "      <td>23351415</td>\n",
       "      <td>{\"Justin Bieber\"}</td>\n",
       "      <td>[Letra de \"Despacito (Remix)\" ft. Justin Biebe...</td>\n",
       "      <td>3057010</td>\n",
       "      <td>es</td>\n",
       "      <td>es</td>\n",
       "      <td>es</td>\n",
       "    </tr>\n",
       "    <tr>\n",
       "      <th>212889</th>\n",
       "      <td>Rap God</td>\n",
       "      <td>rap</td>\n",
       "      <td>Eminem</td>\n",
       "      <td>2013</td>\n",
       "      <td>17575634</td>\n",
       "      <td>{}</td>\n",
       "      <td>[Intro]\\n\"Look, I was gonna go easy on you not...</td>\n",
       "      <td>235729</td>\n",
       "      <td>en</td>\n",
       "      <td>en</td>\n",
       "      <td>en</td>\n",
       "    </tr>\n",
       "    <tr>\n",
       "      <th>3858378</th>\n",
       "      <td>WAP</td>\n",
       "      <td>rap</td>\n",
       "      <td>Cardi B</td>\n",
       "      <td>2020</td>\n",
       "      <td>16003444</td>\n",
       "      <td>{\"Megan Thee Stallion\"}</td>\n",
       "      <td>[Intro: Cardi B, Al \"T\" McLaran &amp; Megan Thee S...</td>\n",
       "      <td>5832126</td>\n",
       "      <td>en</td>\n",
       "      <td>en</td>\n",
       "      <td>en</td>\n",
       "    </tr>\n",
       "    <tr>\n",
       "      <th>1950930</th>\n",
       "      <td>Shape of You</td>\n",
       "      <td>pop</td>\n",
       "      <td>Ed Sheeran</td>\n",
       "      <td>2017</td>\n",
       "      <td>14569727</td>\n",
       "      <td>{}</td>\n",
       "      <td>[Verse 1]\\nThe club isn't the best place to fi...</td>\n",
       "      <td>2949128</td>\n",
       "      <td>en</td>\n",
       "      <td>en</td>\n",
       "      <td>en</td>\n",
       "    </tr>\n",
       "    <tr>\n",
       "      <th>2015234</th>\n",
       "      <td>HUMBLE.</td>\n",
       "      <td>rap</td>\n",
       "      <td>Kendrick Lamar</td>\n",
       "      <td>2017</td>\n",
       "      <td>11181199</td>\n",
       "      <td>{}</td>\n",
       "      <td>[Intro]\\nNobody pray for me\\nIt been that day ...</td>\n",
       "      <td>3039923</td>\n",
       "      <td>en</td>\n",
       "      <td>en</td>\n",
       "      <td>en</td>\n",
       "    </tr>\n",
       "  </tbody>\n",
       "</table>\n",
       "</div>\n",
       "    <div class=\"colab-df-buttons\">\n",
       "\n",
       "  <div class=\"colab-df-container\">\n",
       "    <button class=\"colab-df-convert\" onclick=\"convertToInteractive('df-ab284ef4-3066-45a0-846a-8fc2f2a8c571')\"\n",
       "            title=\"Convert this dataframe to an interactive table.\"\n",
       "            style=\"display:none;\">\n",
       "\n",
       "  <svg xmlns=\"http://www.w3.org/2000/svg\" height=\"24px\" viewBox=\"0 -960 960 960\">\n",
       "    <path d=\"M120-120v-720h720v720H120Zm60-500h600v-160H180v160Zm220 220h160v-160H400v160Zm0 220h160v-160H400v160ZM180-400h160v-160H180v160Zm440 0h160v-160H620v160ZM180-180h160v-160H180v160Zm440 0h160v-160H620v160Z\"/>\n",
       "  </svg>\n",
       "    </button>\n",
       "\n",
       "  <style>\n",
       "    .colab-df-container {\n",
       "      display:flex;\n",
       "      gap: 12px;\n",
       "    }\n",
       "\n",
       "    .colab-df-convert {\n",
       "      background-color: #E8F0FE;\n",
       "      border: none;\n",
       "      border-radius: 50%;\n",
       "      cursor: pointer;\n",
       "      display: none;\n",
       "      fill: #1967D2;\n",
       "      height: 32px;\n",
       "      padding: 0 0 0 0;\n",
       "      width: 32px;\n",
       "    }\n",
       "\n",
       "    .colab-df-convert:hover {\n",
       "      background-color: #E2EBFA;\n",
       "      box-shadow: 0px 1px 2px rgba(60, 64, 67, 0.3), 0px 1px 3px 1px rgba(60, 64, 67, 0.15);\n",
       "      fill: #174EA6;\n",
       "    }\n",
       "\n",
       "    .colab-df-buttons div {\n",
       "      margin-bottom: 4px;\n",
       "    }\n",
       "\n",
       "    [theme=dark] .colab-df-convert {\n",
       "      background-color: #3B4455;\n",
       "      fill: #D2E3FC;\n",
       "    }\n",
       "\n",
       "    [theme=dark] .colab-df-convert:hover {\n",
       "      background-color: #434B5C;\n",
       "      box-shadow: 0px 1px 3px 1px rgba(0, 0, 0, 0.15);\n",
       "      filter: drop-shadow(0px 1px 2px rgba(0, 0, 0, 0.3));\n",
       "      fill: #FFFFFF;\n",
       "    }\n",
       "  </style>\n",
       "\n",
       "    <script>\n",
       "      const buttonEl =\n",
       "        document.querySelector('#df-ab284ef4-3066-45a0-846a-8fc2f2a8c571 button.colab-df-convert');\n",
       "      buttonEl.style.display =\n",
       "        google.colab.kernel.accessAllowed ? 'block' : 'none';\n",
       "\n",
       "      async function convertToInteractive(key) {\n",
       "        const element = document.querySelector('#df-ab284ef4-3066-45a0-846a-8fc2f2a8c571');\n",
       "        const dataTable =\n",
       "          await google.colab.kernel.invokeFunction('convertToInteractive',\n",
       "                                                    [key], {});\n",
       "        if (!dataTable) return;\n",
       "\n",
       "        const docLinkHtml = 'Like what you see? Visit the ' +\n",
       "          '<a target=\"_blank\" href=https://colab.research.google.com/notebooks/data_table.ipynb>data table notebook</a>'\n",
       "          + ' to learn more about interactive tables.';\n",
       "        element.innerHTML = '';\n",
       "        dataTable['output_type'] = 'display_data';\n",
       "        await google.colab.output.renderOutput(dataTable, element);\n",
       "        const docLink = document.createElement('div');\n",
       "        docLink.innerHTML = docLinkHtml;\n",
       "        element.appendChild(docLink);\n",
       "      }\n",
       "    </script>\n",
       "  </div>\n",
       "\n",
       "\n",
       "<div id=\"df-a9f8f4e8-9783-42e7-8900-a63cdfed6dcf\">\n",
       "  <button class=\"colab-df-quickchart\" onclick=\"quickchart('df-a9f8f4e8-9783-42e7-8900-a63cdfed6dcf')\"\n",
       "            title=\"Suggest charts\"\n",
       "            style=\"display:none;\">\n",
       "\n",
       "<svg xmlns=\"http://www.w3.org/2000/svg\" height=\"24px\"viewBox=\"0 0 24 24\"\n",
       "     width=\"24px\">\n",
       "    <g>\n",
       "        <path d=\"M19 3H5c-1.1 0-2 .9-2 2v14c0 1.1.9 2 2 2h14c1.1 0 2-.9 2-2V5c0-1.1-.9-2-2-2zM9 17H7v-7h2v7zm4 0h-2V7h2v10zm4 0h-2v-4h2v4z\"/>\n",
       "    </g>\n",
       "</svg>\n",
       "  </button>\n",
       "\n",
       "<style>\n",
       "  .colab-df-quickchart {\n",
       "      --bg-color: #E8F0FE;\n",
       "      --fill-color: #1967D2;\n",
       "      --hover-bg-color: #E2EBFA;\n",
       "      --hover-fill-color: #174EA6;\n",
       "      --disabled-fill-color: #AAA;\n",
       "      --disabled-bg-color: #DDD;\n",
       "  }\n",
       "\n",
       "  [theme=dark] .colab-df-quickchart {\n",
       "      --bg-color: #3B4455;\n",
       "      --fill-color: #D2E3FC;\n",
       "      --hover-bg-color: #434B5C;\n",
       "      --hover-fill-color: #FFFFFF;\n",
       "      --disabled-bg-color: #3B4455;\n",
       "      --disabled-fill-color: #666;\n",
       "  }\n",
       "\n",
       "  .colab-df-quickchart {\n",
       "    background-color: var(--bg-color);\n",
       "    border: none;\n",
       "    border-radius: 50%;\n",
       "    cursor: pointer;\n",
       "    display: none;\n",
       "    fill: var(--fill-color);\n",
       "    height: 32px;\n",
       "    padding: 0;\n",
       "    width: 32px;\n",
       "  }\n",
       "\n",
       "  .colab-df-quickchart:hover {\n",
       "    background-color: var(--hover-bg-color);\n",
       "    box-shadow: 0 1px 2px rgba(60, 64, 67, 0.3), 0 1px 3px 1px rgba(60, 64, 67, 0.15);\n",
       "    fill: var(--button-hover-fill-color);\n",
       "  }\n",
       "\n",
       "  .colab-df-quickchart-complete:disabled,\n",
       "  .colab-df-quickchart-complete:disabled:hover {\n",
       "    background-color: var(--disabled-bg-color);\n",
       "    fill: var(--disabled-fill-color);\n",
       "    box-shadow: none;\n",
       "  }\n",
       "\n",
       "  .colab-df-spinner {\n",
       "    border: 2px solid var(--fill-color);\n",
       "    border-color: transparent;\n",
       "    border-bottom-color: var(--fill-color);\n",
       "    animation:\n",
       "      spin 1s steps(1) infinite;\n",
       "  }\n",
       "\n",
       "  @keyframes spin {\n",
       "    0% {\n",
       "      border-color: transparent;\n",
       "      border-bottom-color: var(--fill-color);\n",
       "      border-left-color: var(--fill-color);\n",
       "    }\n",
       "    20% {\n",
       "      border-color: transparent;\n",
       "      border-left-color: var(--fill-color);\n",
       "      border-top-color: var(--fill-color);\n",
       "    }\n",
       "    30% {\n",
       "      border-color: transparent;\n",
       "      border-left-color: var(--fill-color);\n",
       "      border-top-color: var(--fill-color);\n",
       "      border-right-color: var(--fill-color);\n",
       "    }\n",
       "    40% {\n",
       "      border-color: transparent;\n",
       "      border-right-color: var(--fill-color);\n",
       "      border-top-color: var(--fill-color);\n",
       "    }\n",
       "    60% {\n",
       "      border-color: transparent;\n",
       "      border-right-color: var(--fill-color);\n",
       "    }\n",
       "    80% {\n",
       "      border-color: transparent;\n",
       "      border-right-color: var(--fill-color);\n",
       "      border-bottom-color: var(--fill-color);\n",
       "    }\n",
       "    90% {\n",
       "      border-color: transparent;\n",
       "      border-bottom-color: var(--fill-color);\n",
       "    }\n",
       "  }\n",
       "</style>\n",
       "\n",
       "  <script>\n",
       "    async function quickchart(key) {\n",
       "      const quickchartButtonEl =\n",
       "        document.querySelector('#' + key + ' button');\n",
       "      quickchartButtonEl.disabled = true;  // To prevent multiple clicks.\n",
       "      quickchartButtonEl.classList.add('colab-df-spinner');\n",
       "      try {\n",
       "        const charts = await google.colab.kernel.invokeFunction(\n",
       "            'suggestCharts', [key], {});\n",
       "      } catch (error) {\n",
       "        console.error('Error during call to suggestCharts:', error);\n",
       "      }\n",
       "      quickchartButtonEl.classList.remove('colab-df-spinner');\n",
       "      quickchartButtonEl.classList.add('colab-df-quickchart-complete');\n",
       "    }\n",
       "    (() => {\n",
       "      let quickchartButtonEl =\n",
       "        document.querySelector('#df-a9f8f4e8-9783-42e7-8900-a63cdfed6dcf button');\n",
       "      quickchartButtonEl.style.display =\n",
       "        google.colab.kernel.accessAllowed ? 'block' : 'none';\n",
       "    })();\n",
       "  </script>\n",
       "</div>\n",
       "\n",
       "    </div>\n",
       "  </div>\n"
      ],
      "text/plain": [
       "                   title  tag                     artist  year     views  \\\n",
       "2029340  Despacito Remix  pop  Luis Fonsi & Daddy Yankee  2017  23351415   \n",
       "212889           Rap God  rap                     Eminem  2013  17575634   \n",
       "3858378              WAP  rap                    Cardi B  2020  16003444   \n",
       "1950930     Shape of You  pop                 Ed Sheeran  2017  14569727   \n",
       "2015234          HUMBLE.  rap             Kendrick Lamar  2017  11181199   \n",
       "\n",
       "                        features  \\\n",
       "2029340        {\"Justin Bieber\"}   \n",
       "212889                        {}   \n",
       "3858378  {\"Megan Thee Stallion\"}   \n",
       "1950930                       {}   \n",
       "2015234                       {}   \n",
       "\n",
       "                                                    lyrics       id  \\\n",
       "2029340  [Letra de \"Despacito (Remix)\" ft. Justin Biebe...  3057010   \n",
       "212889   [Intro]\\n\"Look, I was gonna go easy on you not...   235729   \n",
       "3858378  [Intro: Cardi B, Al \"T\" McLaran & Megan Thee S...  5832126   \n",
       "1950930  [Verse 1]\\nThe club isn't the best place to fi...  2949128   \n",
       "2015234  [Intro]\\nNobody pray for me\\nIt been that day ...  3039923   \n",
       "\n",
       "        language_cld3 language_ft language  \n",
       "2029340            es          es       es  \n",
       "212889             en          en       en  \n",
       "3858378            en          en       en  \n",
       "1950930            en          en       en  \n",
       "2015234            en          en       en  "
      ]
     },
     "execution_count": 84,
     "metadata": {},
     "output_type": "execute_result"
    }
   ],
   "source": [
    "top_views_df.head()"
   ]
  },
  {
   "cell_type": "code",
   "execution_count": null,
   "metadata": {
    "colab": {
     "base_uri": "https://localhost:8080/"
    },
    "executionInfo": {
     "elapsed": 10,
     "status": "ok",
     "timestamp": 1731594054404,
     "user": {
      "displayName": "Jesus Santos Capote",
      "userId": "12226507682868270823"
     },
     "user_tz": -60
    },
    "id": "R4B2XQmMHWns",
    "outputId": "1e93d490-b19a-4370-eec4-63b83dec30dd"
   },
   "outputs": [
    {
     "name": "stdout",
     "output_type": "stream",
     "text": [
      "<class 'pandas.core.frame.DataFrame'>\n",
      "Index: 1000 entries, 2029340 to 37482\n",
      "Data columns (total 11 columns):\n",
      " #   Column         Non-Null Count  Dtype \n",
      "---  ------         --------------  ----- \n",
      " 0   title          1000 non-null   object\n",
      " 1   tag            1000 non-null   object\n",
      " 2   artist         1000 non-null   object\n",
      " 3   year           1000 non-null   int64 \n",
      " 4   views          1000 non-null   int64 \n",
      " 5   features       1000 non-null   object\n",
      " 6   lyrics         1000 non-null   object\n",
      " 7   id             1000 non-null   int64 \n",
      " 8   language_cld3  995 non-null    object\n",
      " 9   language_ft    995 non-null    object\n",
      " 10  language       988 non-null    object\n",
      "dtypes: int64(3), object(8)\n",
      "memory usage: 93.8+ KB\n"
     ]
    }
   ],
   "source": [
    "top_views_df.info()"
   ]
  },
  {
   "cell_type": "code",
   "execution_count": null,
   "metadata": {
    "id": "yXeK0spvYrDR"
   },
   "outputs": [],
   "source": [
    "import re\n",
    "import string\n",
    "\n",
    "def clean_lyrics(lyrics):\n",
    "  # Convert all the letters to lowercase\n",
    "  lyrics = lyrics.lower()\n",
    "\n",
    "  # Delete text between parenthesis (for example, [Intro] or (Chorus))\n",
    "  lyrics = re.sub(r' \\[.*?\\] ', '', lyrics)\n",
    "  lyrics = re.sub(r'\\(.*?\\)', '', lyrics)\n",
    "\n",
    "  # Delete punctuation\n",
    "  lyrics = lyrics.translate(str.maketrans('', '', string.punctuation))\n",
    "\n",
    "  # Delete extra blanc spaces\n",
    "  lyrics = re.sub(r'\\s+', ' ', lyrics).strip()\n",
    "\n",
    "  return lyrics"
   ]
  },
  {
   "cell_type": "code",
   "execution_count": null,
   "metadata": {
    "colab": {
     "base_uri": "https://localhost:8080/"
    },
    "collapsed": true,
    "executionInfo": {
     "elapsed": 8,
     "status": "ok",
     "timestamp": 1731594054404,
     "user": {
      "displayName": "Jesus Santos Capote",
      "userId": "12226507682868270823"
     },
     "user_tz": -60
    },
    "id": "vSCRK4l2YrF3",
    "outputId": "b94ebad3-0279-4e65-edca-21e57216c4ea"
   },
   "outputs": [
    {
     "name": "stdout",
     "output_type": "stream",
     "text": [
      "[Letra de \"Despacito (Remix)\" ft. Justin Bieber]\n",
      "\n",
      "[Intro: Justin Bieber]\n",
      "Comin' over in my direction\n",
      "So thankful for that, it's such a blessin', yeah\n",
      "Turn every situation into heaven, yeah\n",
      "Oh-oh, you are\n",
      "My sunrise on the darkest day\n",
      "Got me feelin' some kind of way\n",
      "Make me wanna savor every moment slowly, slowly\n",
      "You fit me tailor-made, love how you put it on\n",
      "Got the only key, know how to turn it on\n",
      "The way you nibble on my ear, the only words I wanna hear\n",
      "Baby, take it slow so we can last long\n",
      "\n",
      "[Verso 1: Luis Fonsi & Daddy Yankee]\n",
      "¡Oh! Tú, tú eres el imán y yo soy el metal\n",
      "Me voy acercando y voy armando el plan\n",
      "Sólo con pensarlo se acelera el pulso (Oh, yeah)\n",
      "Ya, ya me está gustando más de lo normal\n",
      "Todos mis sentidos van pidiendo más\n",
      "Esto hay que tomarlo sin ningún apuro\n",
      "[Coro: Justin Bieber & Luis Fonsi, Daddy Yankee]\n",
      "Despacito\n",
      "Quiero respirar tu cuello despacito\n",
      "Deja que te diga cosas al oído\n",
      "Para que te acuerdes si no estás conmigo\n",
      "Despacito\n",
      "Quiero desnudarte a besos despacito\n",
      "Firmo en las paredes de tu laberinto\n",
      "Y hacer de tu cuerpo todo un manuscrito\n",
      "(Sube, sube, sube\n",
      "Sube, sube)\n",
      "\n",
      "[Post-Coro: Luis Fonsi & Daddy Yankee]\n",
      "Quiero ver bailar tu pelo, quiero ser tu ritmo (Woah, woah)\n",
      "Que le enseñes a mi boca (Woah, woah)\n",
      "Tus lugares favoritos (Favorito, favorito, baby)\n",
      "Déjame sobrepasar tus zonas de peligro (Woah, woah)\n",
      "Hasta provocar tus gritos (Woah, woah)\n",
      "Y que olvides tu apellido\n",
      "\n",
      "[Verso 2: Daddy Yankee]\n",
      "Si te pido un beso, ven, dámelo, yo sé que estás pensándolo\n",
      "Llevo tiempo intentándolo, mami, esto es dando y dándolo\n",
      "Sabes que tu corazón conmigo te hace bom, bom\n",
      "Sabes que esa beba está buscando de mi bom, bom\n",
      "Ven, prueba de mi boca para ver cómo te sabe\n",
      "Quiero, quiero, quiero ver cuánto amor a ti te cabe\n",
      "Yo no tengo prisa, yo me quiero dar el viaje\n",
      "Empecemos lento, después salvaje\n",
      "[Pre-Coro: Daddy Yankee & Justin Bieber, Daddy Yankee]\n",
      "Pasito a pasito, suave suavecito\n",
      "Nos vamos pegando, poquito a poquito\n",
      "Cuando tú me besas con esa destreza\n",
      "Veo que eres malicia con delicadeza\n",
      "Pasito a pasito, suave suavecito\n",
      "Nos vamos pegando, poquito a poquito\n",
      "Y es que esa belleza es un rompecabezas\n",
      "Pero pa' montarlo aquí tengo la pieza\n",
      "¡Oye!\n",
      "\n",
      "[Coro: Justin Bieber & Luis Fonsi, Daddy Yankee]\n",
      "Despacito\n",
      "Quiero respirar tu cuello despacito\n",
      "Deja que te diga cosas al oído\n",
      "Para que te acuerdes si no estás conmigo\n",
      "Despacito\n",
      "Quiero desnudarte a besos despacito\n",
      "Firmo en las paredes de tu laberinto\n",
      "Y hacer de tu cuerpo todo un manuscrito\n",
      "(Sube, sube, sube\n",
      "Sube, sube)\n",
      "\n",
      "[Post-Coro: Luis Fonsi & Daddy Yankee]\n",
      "Quiero ver bailar tu pelo, quiero ser tu ritmo (Woah, woah)\n",
      "Que le enseñes a mi boca (Woah, woah)\n",
      "Tus lugares favoritos (Favorito, favorito, baby)\n",
      "Déjame sobrepasar tus zonas de peligro (Woah, woah)\n",
      "Hasta provocar tus gritos (Woah, woah)\n",
      "Y que olvides tu apellido\n",
      "[Puente: Luis Fonsi]\n",
      "Despacito\n",
      "This is how we do it down in Puerto Rico\n",
      "I just wanna hear you screaming, \"¡Ay, Bendito!\"\n",
      "I can move forever cuando esté contigo\n",
      "¡Báilalo!\n",
      "\n",
      "[Outro: Daddy Yankee, Luis Fonsi & Justin Bieber]\n",
      "Pasito a pasito, suave suavecito\n",
      "Nos vamos pegando, poquito a poquito\n",
      "Que le enseñes a mi boca\n",
      "Tus lugares favoritos\n",
      "(Favorito, favorito, baby)\n",
      "Pasito a pasito, suave suavecito\n",
      "Nos vamos pegando, poquito a poquito\n",
      "Hasta provocar tus gritos (Fonsi)\n",
      "Y que olvides tu apellido (D.Y.)\n",
      "Despacito\n",
      "\n",
      "\n",
      "Cleaned lyric: \n",
      "\n",
      "letra de despacito ft justin bieber intro justin bieber comin over in my direction so thankful for that its such a blessin yeah turn every situation into heaven yeah ohoh you are my sunrise on the darkest day got me feelin some kind of way make me wanna savor every moment slowly slowly you fit me tailormade love how you put it on got the only key know how to turn it on the way you nibble on my ear the only words i wanna hear baby take it slow so we can last long verso 1 luis fonsi daddy yankee ¡oh tú tú eres el imán y yo soy el metal me voy acercando y voy armando el plan sólo con pensarlo se acelera el pulso ya ya me está gustando más de lo normal todos mis sentidos van pidiendo más esto hay que tomarlo sin ningún apuro coro justin bieber luis fonsi daddy yankee despacito quiero respirar tu cuello despacito deja que te diga cosas al oído para que te acuerdes si no estás conmigo despacito quiero desnudarte a besos despacito firmo en las paredes de tu laberinto y hacer de tu cuerpo todo un manuscrito sube sube sube sube sube postcoro luis fonsi daddy yankee quiero ver bailar tu pelo quiero ser tu ritmo que le enseñes a mi boca tus lugares favoritos déjame sobrepasar tus zonas de peligro hasta provocar tus gritos y que olvides tu apellido verso 2 daddy yankee si te pido un beso ven dámelo yo sé que estás pensándolo llevo tiempo intentándolo mami esto es dando y dándolo sabes que tu corazón conmigo te hace bom bom sabes que esa beba está buscando de mi bom bom ven prueba de mi boca para ver cómo te sabe quiero quiero quiero ver cuánto amor a ti te cabe yo no tengo prisa yo me quiero dar el viaje empecemos lento después salvaje precoro daddy yankee justin bieber daddy yankee pasito a pasito suave suavecito nos vamos pegando poquito a poquito cuando tú me besas con esa destreza veo que eres malicia con delicadeza pasito a pasito suave suavecito nos vamos pegando poquito a poquito y es que esa belleza es un rompecabezas pero pa montarlo aquí tengo la pieza ¡oye coro justin bieber luis fonsi daddy yankee despacito quiero respirar tu cuello despacito deja que te diga cosas al oído para que te acuerdes si no estás conmigo despacito quiero desnudarte a besos despacito firmo en las paredes de tu laberinto y hacer de tu cuerpo todo un manuscrito sube sube sube sube sube postcoro luis fonsi daddy yankee quiero ver bailar tu pelo quiero ser tu ritmo que le enseñes a mi boca tus lugares favoritos déjame sobrepasar tus zonas de peligro hasta provocar tus gritos y que olvides tu apellido puente luis fonsi despacito this is how we do it down in puerto rico i just wanna hear you screaming ¡ay bendito i can move forever cuando esté contigo ¡báilalo outro daddy yankee luis fonsi justin bieber pasito a pasito suave suavecito nos vamos pegando poquito a poquito que le enseñes a mi boca tus lugares favoritos pasito a pasito suave suavecito nos vamos pegando poquito a poquito hasta provocar tus gritos y que olvides tu apellido despacito\n"
     ]
    }
   ],
   "source": [
    "# Test clean_lyrics\n",
    "print(top_views_df.iloc[0]['lyrics'])\n",
    "print(\"\\n\")\n",
    "print(\"Cleaned lyric: \\n\")\n",
    "print(clean_lyrics(top_views_df.iloc[0]['lyrics']))"
   ]
  },
  {
   "cell_type": "markdown",
   "metadata": {
    "id": "YS6IFyAEXFub"
   },
   "source": [
    "## Extract embeddings for lyrics database"
   ]
  },
  {
   "cell_type": "code",
   "execution_count": null,
   "metadata": {
    "colab": {
     "base_uri": "https://localhost:8080/"
    },
    "executionInfo": {
     "elapsed": 38301,
     "status": "ok",
     "timestamp": 1731594092698,
     "user": {
      "displayName": "Jesus Santos Capote",
      "userId": "12226507682868270823"
     },
     "user_tz": -60
    },
    "id": "tMJ3_AIZZ4Af",
    "outputId": "a456549d-26d3-4a20-d40d-1f60aa92483f"
   },
   "outputs": [
    {
     "name": "stdout",
     "output_type": "stream",
     "text": [
      "(1000, 768)\n"
     ]
    }
   ],
   "source": [
    "\"\"\"It was attempted to obtain the embeddings for the 1000 song lyrics all at\n",
    "once, but the GPU's RAM was getting filled up during the process.\n",
    "Therefore, the extraction of embeddings was divided into batches.\n",
    "Various batch sizes (32, 64, 128, 256, 512) were experimented with, and\n",
    "eventually, 128 was found to be the best option.\"\"\"\n",
    "\n",
    "batch_size = 128\n",
    "num_batches = len(top_views_df) // batch_size + 1\n",
    "embeddings = []\n",
    "\n",
    "for i in range(num_batches):\n",
    "    start = i * batch_size\n",
    "    end = min((i + 1) * batch_size, len(top_views_df))\n",
    "    batch_lyrics = [clean_lyrics(lyric) for lyric in top_views_df['lyrics'][start:end]]\n",
    "    batch_embeddings = get_bert_embeddings(batch_lyrics)\n",
    "    embeddings.extend(batch_embeddings)\n",
    "\n",
    "embeddings = np.array(embeddings)\n",
    "print(embeddings.shape)"
   ]
  },
  {
   "cell_type": "markdown",
   "metadata": {
    "id": "f4AUtV5NZ42D"
   },
   "source": [
    "\n",
    "## Create a `faiss` index with lyrics"
   ]
  },
  {
   "cell_type": "code",
   "execution_count": null,
   "metadata": {
    "id": "yuOA71_BYssO"
   },
   "outputs": [],
   "source": [
    "dimension = embeddings[0].shape[0]\n",
    "\n",
    "# Using Euclidean distance for distance measure between embeddings\n",
    "lyric_index = faiss.IndexFlatL2(dimension)\n",
    "lyric_index.add(embeddings)"
   ]
  },
  {
   "cell_type": "code",
   "execution_count": null,
   "metadata": {
    "id": "rOWyEX4YYsvF"
   },
   "outputs": [],
   "source": [
    "query_text = \"\"\"Pasito a pasito, suave suavecito\n",
    "Nos vamos pegando, poquito a poquito\n",
    "Que le enseñes a mi boca\n",
    "Tus lugares favoritos\n",
    "(Favorito, favorito, baby)\n",
    "Pasito a pasito, suave suavecito\n",
    "Nos vamos pegando, poquito a poquito\"\"\"\n",
    "\n",
    "cleaned_query = clean_lyrics(query_text)\n",
    "query_embedding = get_bert_embeddings(cleaned_query)[0]"
   ]
  },
  {
   "cell_type": "code",
   "execution_count": null,
   "metadata": {
    "colab": {
     "base_uri": "https://localhost:8080/"
    },
    "executionInfo": {
     "elapsed": 4,
     "status": "ok",
     "timestamp": 1731594092699,
     "user": {
      "displayName": "Jesus Santos Capote",
      "userId": "12226507682868270823"
     },
     "user_tz": -60
    },
    "id": "u8tzHgL9Ysx7",
    "outputId": "029a0a5c-e11e-4a25-bde4-cdd993134501"
   },
   "outputs": [
    {
     "name": "stdout",
     "output_type": "stream",
     "text": [
      "[[31.326694 32.30318  34.950733]] [[496 616 116]]\n",
      "Neighbor 1:\n",
      "Text: Tuyo\n",
      "Distance: 31.32669448852539\n",
      "Neighbor 2:\n",
      "Text: Amorfoda\n",
      "Distance: 32.30318069458008\n",
      "Neighbor 3:\n",
      "Text: Despacito\n",
      "Distance: 34.95073318481445\n"
     ]
    }
   ],
   "source": [
    "k = 3 # Number of nearest neighbors\n",
    "D, I = lyric_index.search(np.array([query_embedding]), k)\n",
    "print(D, I)\n",
    "# Display the results\n",
    "for i in range(k):\n",
    "  print(f\"Neighbor {i+1}:\")\n",
    "  print(f\"Text: {top_views_df.iloc[I[0][i]]['title']}\")\n",
    "  print(f\"Distance: {D[0][i]}\")"
   ]
  },
  {
   "cell_type": "markdown",
   "metadata": {
    "id": "rEjy9P4-YvzP"
   },
   "source": [
    "\n",
    "## Final function: `get_covers`"
   ]
  },
  {
   "cell_type": "code",
   "execution_count": null,
   "metadata": {
    "id": "qFenwb2KY07-"
   },
   "outputs": [],
   "source": [
    "def get_covers(youtube_url, k):\n",
    "  lyrics = get_lyrics_from_youtube_url(youtube_url)\n",
    "  lyrics = clean_lyrics(lyrics)\n",
    "  query_embedding = get_bert_embeddings(lyrics)[0]\n",
    "  D, I = lyric_index.search(np.array([query_embedding]), k)\n",
    "  covers = []\n",
    "  for i in range(k):\n",
    "    covers.append(\n",
    "        { \"title\": top_views_df.iloc[I[0][i]]['title'],\n",
    "          \"artist\": top_views_df.iloc[I[0][i]]['artist'],\n",
    "          \"distance\": D[0][i]\n",
    "        }\n",
    "    )\n",
    "  return covers\n"
   ]
  },
  {
   "cell_type": "markdown",
   "metadata": {
    "id": "CKyEOwCAXI7s"
   },
   "source": [
    "## 📊Evaluation of the solution\n",
    "\n",
    "Let's evaluate the system with 8 youtube videos:\n",
    "\n",
    "* https://www.youtube.com/watch?v=BDC8Jr-gp_4\n",
    "* https://www.youtube.com/watch?v=W_97b97G5ds\n",
    "* https://www.youtube.com/watch?v=L53MZzuE0QY\n",
    "* https://www.youtube.com/watch?v=9vmrPrYJPqI\n",
    "* https://www.youtube.com/watch?v=R6ATpAr7rQU\n",
    "* https://www.youtube.com/watch?v=RmtP8X4ZErs\n",
    "* https://www.youtube.com/watch?v=DfMnRP0pk3A\n",
    "* https://www.youtube.com/watch?v=1BVP72VrGQs"
   ]
  },
  {
   "cell_type": "code",
   "execution_count": null,
   "metadata": {
    "colab": {
     "base_uri": "https://localhost:8080/"
    },
    "executionInfo": {
     "elapsed": 115820,
     "status": "ok",
     "timestamp": 1731594208515,
     "user": {
      "displayName": "Jesus Santos Capote",
      "userId": "12226507682868270823"
     },
     "user_tz": -60
    },
    "id": "hbQIKQ_jY2qm",
    "outputId": "6a207359-ffe5-4f80-b882-07754584a271"
   },
   "outputs": [
    {
     "name": "stdout",
     "output_type": "stream",
     "text": [
      " ↳ |███████████████████████████████████████████████████████| 100.0%\r"
     ]
    },
    {
     "name": "stderr",
     "output_type": "stream",
     "text": [
      "/usr/local/lib/python3.10/dist-packages/transformers/models/whisper/generation_whisper.py:509: FutureWarning: The input name `inputs` is deprecated. Please make sure to use `input_features` instead.\n",
      "  warnings.warn(\n"
     ]
    },
    {
     "name": "stdout",
     "output_type": "stream",
     "text": [
      " ↳ |███████████████████████████████████████████████████████| 100.0%\r"
     ]
    },
    {
     "name": "stderr",
     "output_type": "stream",
     "text": [
      "/usr/local/lib/python3.10/dist-packages/transformers/models/whisper/generation_whisper.py:509: FutureWarning: The input name `inputs` is deprecated. Please make sure to use `input_features` instead.\n",
      "  warnings.warn(\n"
     ]
    },
    {
     "name": "stdout",
     "output_type": "stream",
     "text": [
      " ↳ |███████████████████████████████████████████████████████| 100.0%\r"
     ]
    },
    {
     "name": "stderr",
     "output_type": "stream",
     "text": [
      "/usr/local/lib/python3.10/dist-packages/transformers/models/whisper/generation_whisper.py:509: FutureWarning: The input name `inputs` is deprecated. Please make sure to use `input_features` instead.\n",
      "  warnings.warn(\n",
      "Whisper did not predict an ending timestamp, which can happen if audio is cut off in the middle of a word. Also make sure WhisperTimeStampLogitsProcessor was used during generation.\n"
     ]
    },
    {
     "name": "stdout",
     "output_type": "stream",
     "text": [
      " ↳ |███████████████████████████████████████████████████████| 100.0%\r"
     ]
    },
    {
     "name": "stderr",
     "output_type": "stream",
     "text": [
      "/usr/local/lib/python3.10/dist-packages/transformers/models/whisper/generation_whisper.py:509: FutureWarning: The input name `inputs` is deprecated. Please make sure to use `input_features` instead.\n",
      "  warnings.warn(\n"
     ]
    },
    {
     "name": "stdout",
     "output_type": "stream",
     "text": [
      " ↳ |███████████████████████████████████████████████████████| 100.0%\r"
     ]
    },
    {
     "name": "stderr",
     "output_type": "stream",
     "text": [
      "/usr/local/lib/python3.10/dist-packages/transformers/models/whisper/generation_whisper.py:509: FutureWarning: The input name `inputs` is deprecated. Please make sure to use `input_features` instead.\n",
      "  warnings.warn(\n"
     ]
    },
    {
     "name": "stdout",
     "output_type": "stream",
     "text": [
      " ↳ |███████████████████████████████████████████████████████| 100.0%\r"
     ]
    },
    {
     "name": "stderr",
     "output_type": "stream",
     "text": [
      "/usr/local/lib/python3.10/dist-packages/transformers/models/whisper/generation_whisper.py:509: FutureWarning: The input name `inputs` is deprecated. Please make sure to use `input_features` instead.\n",
      "  warnings.warn(\n"
     ]
    },
    {
     "name": "stdout",
     "output_type": "stream",
     "text": [
      " ↳ |███████████████████████████████████████████████████████| 100.0%\r"
     ]
    },
    {
     "name": "stderr",
     "output_type": "stream",
     "text": [
      "/usr/local/lib/python3.10/dist-packages/transformers/models/whisper/generation_whisper.py:509: FutureWarning: The input name `inputs` is deprecated. Please make sure to use `input_features` instead.\n",
      "  warnings.warn(\n",
      "Whisper did not predict an ending timestamp, which can happen if audio is cut off in the middle of a word. Also make sure WhisperTimeStampLogitsProcessor was used during generation.\n"
     ]
    },
    {
     "name": "stdout",
     "output_type": "stream",
     "text": [
      " ↳ |███████████████████████████████████████████████████████| 100.0%\r"
     ]
    },
    {
     "name": "stderr",
     "output_type": "stream",
     "text": [
      "/usr/local/lib/python3.10/dist-packages/transformers/models/whisper/generation_whisper.py:509: FutureWarning: The input name `inputs` is deprecated. Please make sure to use `input_features` instead.\n",
      "  warnings.warn(\n",
      "Whisper did not predict an ending timestamp, which can happen if audio is cut off in the middle of a word. Also make sure WhisperTimeStampLogitsProcessor was used during generation.\n"
     ]
    }
   ],
   "source": [
    "youtube_links = [\n",
    "  \"https://www.youtube.com/watch?v=BDC8Jr-gp_4\",\n",
    "  \"https://www.youtube.com/watch?v=W_97b97G5ds\",\n",
    "  \"https://www.youtube.com/watch?v=L53MZzuE0QY\",\n",
    "  \"https://www.youtube.com/watch?v=9vmrPrYJPqI\",\n",
    "  \"https://www.youtube.com/watch?v=R6ATpAr7rQU\",\n",
    "  \"https://www.youtube.com/watch?v=RmtP8X4ZErs\",\n",
    "  \"https://www.youtube.com/watch?v=DfMnRP0pk3A\",\n",
    "  \"https://www.youtube.com/watch?v=1BVP72VrGQs\",\n",
    "]\n",
    "\n",
    "covers = []\n",
    "for link in youtube_links:\n",
    "  covers.append(get_covers(link, 3))"
   ]
  },
  {
   "cell_type": "code",
   "execution_count": null,
   "metadata": {
    "colab": {
     "base_uri": "https://localhost:8080/"
    },
    "executionInfo": {
     "elapsed": 9,
     "status": "ok",
     "timestamp": 1731594208516,
     "user": {
      "displayName": "Jesus Santos Capote",
      "userId": "12226507682868270823"
     },
     "user_tz": -60
    },
    "id": "6qXcTN64Y2tF",
    "outputId": "1f7048e6-9ffa-40da-d4cb-3be6ef5845f8"
   },
   "outputs": [
    {
     "name": "stdout",
     "output_type": "stream",
     "text": [
      "[{'title': 'Shape of You', 'artist': 'Ed Sheeran', 'distance': 29.463589}, {'title': 'All Too Well 10 Minute Version Taylors Version Live Acoustic', 'artist': 'Taylor Swift', 'distance': 46.21553}, {'title': 'Never Be the Same', 'artist': 'Camila Cabello', 'distance': 46.649014}]\n",
      "\n",
      "\n",
      "[{'title': 'Believer', 'artist': 'Imagine Dragons', 'distance': 23.28256}, {'title': 'Glorious', 'artist': 'Macklemore', 'distance': 33.632366}, {'title': 'Off The Grid', 'artist': 'Kanye West', 'distance': 37.118755}]\n",
      "\n",
      "\n",
      "[{'title': 'Rap God', 'artist': 'Eminem', 'distance': 13.217316}, {'title': 'Kamikaze', 'artist': 'Eminem', 'distance': 19.092209}, {'title': 'No More Parties In\\xa0LA', 'artist': 'Kanye West', 'distance': 20.67038}]\n",
      "\n",
      "\n",
      "[{'title': 'Blueberry Faygo', 'artist': 'Lil Mosey', 'distance': 56.441013}, {'title': 'Drowning', 'artist': 'A Boogie wit da Hoodie', 'distance': 60.71165}, {'title': 'Congratulations', 'artist': 'Post Malone', 'distance': 61.537067}]\n",
      "\n",
      "\n",
      "[{'title': 'Marvins Room', 'artist': 'Drake', 'distance': 37.253536}, {'title': 'Girls Love Beyoncé', 'artist': 'Drake', 'distance': 38.093254}, {'title': 'Stressed Out', 'artist': 'twenty one pilots', 'distance': 38.860165}]\n",
      "\n",
      "\n",
      "[{'title': 'Pink Matter', 'artist': 'Frank Ocean', 'distance': 28.029398}, {'title': 'Star Shopping', 'artist': 'Lil Peep', 'distance': 28.187737}, {'title': 'White Ferrari', 'artist': 'Frank Ocean', 'distance': 28.71217}]\n",
      "\n",
      "\n",
      "[{'title': 'Star Shopping', 'artist': 'Lil Peep', 'distance': 25.51746}, {'title': 'Girls Love Beyoncé', 'artist': 'Drake', 'distance': 26.970518}, {'title': 'Pretty Little Fears', 'artist': '6LACK', 'distance': 28.148817}]\n",
      "\n",
      "\n",
      "[{'title': 'Te Boté Remix', 'artist': 'Nio Garca, Casper Mgico & Bad Bunny', 'distance': 23.970026}, {'title': 'Amorfoda', 'artist': 'Bad Bunny', 'distance': 25.293406}, {'title': 'Mi Gente', 'artist': 'J Balvin & Willy William', 'distance': 31.844896}]\n",
      "\n",
      "\n"
     ]
    }
   ],
   "source": [
    "for item in covers:\n",
    "  print(item)\n",
    "  print(\"\\n\")"
   ]
  },
  {
   "cell_type": "code",
   "execution_count": null,
   "metadata": {
    "colab": {
     "base_uri": "https://localhost:8080/",
     "height": 53
    },
    "executionInfo": {
     "elapsed": 8,
     "status": "ok",
     "timestamp": 1731594208516,
     "user": {
      "displayName": "Jesus Santos Capote",
      "userId": "12226507682868270823"
     },
     "user_tz": -60
    },
    "id": "wsiaMr7CXVC_",
    "outputId": "5d8837a2-c76a-49c2-cc5d-4f7f6c943cce"
   },
   "outputs": [
    {
     "data": {
      "application/vnd.google.colaboratory.intrinsic+json": {
       "repr_error": "Out of range float values are not JSON compliant: nan",
       "type": "dataframe"
      },
      "text/html": [
       "\n",
       "  <div id=\"df-363ce4cd-57ab-4770-8760-71c06bd7c3e7\" class=\"colab-df-container\">\n",
       "    <div>\n",
       "<style scoped>\n",
       "    .dataframe tbody tr th:only-of-type {\n",
       "        vertical-align: middle;\n",
       "    }\n",
       "\n",
       "    .dataframe tbody tr th {\n",
       "        vertical-align: top;\n",
       "    }\n",
       "\n",
       "    .dataframe thead th {\n",
       "        text-align: right;\n",
       "    }\n",
       "</style>\n",
       "<table border=\"1\" class=\"dataframe\">\n",
       "  <thead>\n",
       "    <tr style=\"text-align: right;\">\n",
       "      <th></th>\n",
       "      <th>title</th>\n",
       "      <th>tag</th>\n",
       "      <th>artist</th>\n",
       "      <th>year</th>\n",
       "      <th>views</th>\n",
       "      <th>features</th>\n",
       "      <th>lyrics</th>\n",
       "      <th>id</th>\n",
       "      <th>language_cld3</th>\n",
       "      <th>language_ft</th>\n",
       "      <th>language</th>\n",
       "    </tr>\n",
       "  </thead>\n",
       "  <tbody>\n",
       "  </tbody>\n",
       "</table>\n",
       "</div>\n",
       "    <div class=\"colab-df-buttons\">\n",
       "\n",
       "  <div class=\"colab-df-container\">\n",
       "    <button class=\"colab-df-convert\" onclick=\"convertToInteractive('df-363ce4cd-57ab-4770-8760-71c06bd7c3e7')\"\n",
       "            title=\"Convert this dataframe to an interactive table.\"\n",
       "            style=\"display:none;\">\n",
       "\n",
       "  <svg xmlns=\"http://www.w3.org/2000/svg\" height=\"24px\" viewBox=\"0 -960 960 960\">\n",
       "    <path d=\"M120-120v-720h720v720H120Zm60-500h600v-160H180v160Zm220 220h160v-160H400v160Zm0 220h160v-160H400v160ZM180-400h160v-160H180v160Zm440 0h160v-160H620v160ZM180-180h160v-160H180v160Zm440 0h160v-160H620v160Z\"/>\n",
       "  </svg>\n",
       "    </button>\n",
       "\n",
       "  <style>\n",
       "    .colab-df-container {\n",
       "      display:flex;\n",
       "      gap: 12px;\n",
       "    }\n",
       "\n",
       "    .colab-df-convert {\n",
       "      background-color: #E8F0FE;\n",
       "      border: none;\n",
       "      border-radius: 50%;\n",
       "      cursor: pointer;\n",
       "      display: none;\n",
       "      fill: #1967D2;\n",
       "      height: 32px;\n",
       "      padding: 0 0 0 0;\n",
       "      width: 32px;\n",
       "    }\n",
       "\n",
       "    .colab-df-convert:hover {\n",
       "      background-color: #E2EBFA;\n",
       "      box-shadow: 0px 1px 2px rgba(60, 64, 67, 0.3), 0px 1px 3px 1px rgba(60, 64, 67, 0.15);\n",
       "      fill: #174EA6;\n",
       "    }\n",
       "\n",
       "    .colab-df-buttons div {\n",
       "      margin-bottom: 4px;\n",
       "    }\n",
       "\n",
       "    [theme=dark] .colab-df-convert {\n",
       "      background-color: #3B4455;\n",
       "      fill: #D2E3FC;\n",
       "    }\n",
       "\n",
       "    [theme=dark] .colab-df-convert:hover {\n",
       "      background-color: #434B5C;\n",
       "      box-shadow: 0px 1px 3px 1px rgba(0, 0, 0, 0.15);\n",
       "      filter: drop-shadow(0px 1px 2px rgba(0, 0, 0, 0.3));\n",
       "      fill: #FFFFFF;\n",
       "    }\n",
       "  </style>\n",
       "\n",
       "    <script>\n",
       "      const buttonEl =\n",
       "        document.querySelector('#df-363ce4cd-57ab-4770-8760-71c06bd7c3e7 button.colab-df-convert');\n",
       "      buttonEl.style.display =\n",
       "        google.colab.kernel.accessAllowed ? 'block' : 'none';\n",
       "\n",
       "      async function convertToInteractive(key) {\n",
       "        const element = document.querySelector('#df-363ce4cd-57ab-4770-8760-71c06bd7c3e7');\n",
       "        const dataTable =\n",
       "          await google.colab.kernel.invokeFunction('convertToInteractive',\n",
       "                                                    [key], {});\n",
       "        if (!dataTable) return;\n",
       "\n",
       "        const docLinkHtml = 'Like what you see? Visit the ' +\n",
       "          '<a target=\"_blank\" href=https://colab.research.google.com/notebooks/data_table.ipynb>data table notebook</a>'\n",
       "          + ' to learn more about interactive tables.';\n",
       "        element.innerHTML = '';\n",
       "        dataTable['output_type'] = 'display_data';\n",
       "        await google.colab.output.renderOutput(dataTable, element);\n",
       "        const docLink = document.createElement('div');\n",
       "        docLink.innerHTML = docLinkHtml;\n",
       "        element.appendChild(docLink);\n",
       "      }\n",
       "    </script>\n",
       "  </div>\n",
       "\n",
       "\n",
       "    </div>\n",
       "  </div>\n"
      ],
      "text/plain": [
       "Empty DataFrame\n",
       "Columns: [title, tag, artist, year, views, features, lyrics, id, language_cld3, language_ft, language]\n",
       "Index: []"
      ]
     },
     "execution_count": 95,
     "metadata": {},
     "output_type": "execute_result"
    }
   ],
   "source": [
    "top_views_df[top_views_df['title'] == 'Un Buen Dia']"
   ]
  },
  {
   "cell_type": "code",
   "execution_count": null,
   "metadata": {
    "colab": {
     "base_uri": "https://localhost:8080/",
     "height": 53
    },
    "executionInfo": {
     "elapsed": 8,
     "status": "ok",
     "timestamp": 1731594208516,
     "user": {
      "displayName": "Jesus Santos Capote",
      "userId": "12226507682868270823"
     },
     "user_tz": -60
    },
    "id": "NdqB5ry23mOY",
    "outputId": "60a73f34-971c-4746-c2c2-dc8725ee83c7"
   },
   "outputs": [
    {
     "data": {
      "application/vnd.google.colaboratory.intrinsic+json": {
       "repr_error": "Out of range float values are not JSON compliant: nan",
       "type": "dataframe"
      },
      "text/html": [
       "\n",
       "  <div id=\"df-0d515fb9-4b62-4665-bdc1-117ac487b4a8\" class=\"colab-df-container\">\n",
       "    <div>\n",
       "<style scoped>\n",
       "    .dataframe tbody tr th:only-of-type {\n",
       "        vertical-align: middle;\n",
       "    }\n",
       "\n",
       "    .dataframe tbody tr th {\n",
       "        vertical-align: top;\n",
       "    }\n",
       "\n",
       "    .dataframe thead th {\n",
       "        text-align: right;\n",
       "    }\n",
       "</style>\n",
       "<table border=\"1\" class=\"dataframe\">\n",
       "  <thead>\n",
       "    <tr style=\"text-align: right;\">\n",
       "      <th></th>\n",
       "      <th>title</th>\n",
       "      <th>tag</th>\n",
       "      <th>artist</th>\n",
       "      <th>year</th>\n",
       "      <th>views</th>\n",
       "      <th>features</th>\n",
       "      <th>lyrics</th>\n",
       "      <th>id</th>\n",
       "      <th>language_cld3</th>\n",
       "      <th>language_ft</th>\n",
       "      <th>language</th>\n",
       "    </tr>\n",
       "  </thead>\n",
       "  <tbody>\n",
       "  </tbody>\n",
       "</table>\n",
       "</div>\n",
       "    <div class=\"colab-df-buttons\">\n",
       "\n",
       "  <div class=\"colab-df-container\">\n",
       "    <button class=\"colab-df-convert\" onclick=\"convertToInteractive('df-0d515fb9-4b62-4665-bdc1-117ac487b4a8')\"\n",
       "            title=\"Convert this dataframe to an interactive table.\"\n",
       "            style=\"display:none;\">\n",
       "\n",
       "  <svg xmlns=\"http://www.w3.org/2000/svg\" height=\"24px\" viewBox=\"0 -960 960 960\">\n",
       "    <path d=\"M120-120v-720h720v720H120Zm60-500h600v-160H180v160Zm220 220h160v-160H400v160Zm0 220h160v-160H400v160ZM180-400h160v-160H180v160Zm440 0h160v-160H620v160ZM180-180h160v-160H180v160Zm440 0h160v-160H620v160Z\"/>\n",
       "  </svg>\n",
       "    </button>\n",
       "\n",
       "  <style>\n",
       "    .colab-df-container {\n",
       "      display:flex;\n",
       "      gap: 12px;\n",
       "    }\n",
       "\n",
       "    .colab-df-convert {\n",
       "      background-color: #E8F0FE;\n",
       "      border: none;\n",
       "      border-radius: 50%;\n",
       "      cursor: pointer;\n",
       "      display: none;\n",
       "      fill: #1967D2;\n",
       "      height: 32px;\n",
       "      padding: 0 0 0 0;\n",
       "      width: 32px;\n",
       "    }\n",
       "\n",
       "    .colab-df-convert:hover {\n",
       "      background-color: #E2EBFA;\n",
       "      box-shadow: 0px 1px 2px rgba(60, 64, 67, 0.3), 0px 1px 3px 1px rgba(60, 64, 67, 0.15);\n",
       "      fill: #174EA6;\n",
       "    }\n",
       "\n",
       "    .colab-df-buttons div {\n",
       "      margin-bottom: 4px;\n",
       "    }\n",
       "\n",
       "    [theme=dark] .colab-df-convert {\n",
       "      background-color: #3B4455;\n",
       "      fill: #D2E3FC;\n",
       "    }\n",
       "\n",
       "    [theme=dark] .colab-df-convert:hover {\n",
       "      background-color: #434B5C;\n",
       "      box-shadow: 0px 1px 3px 1px rgba(0, 0, 0, 0.15);\n",
       "      filter: drop-shadow(0px 1px 2px rgba(0, 0, 0, 0.3));\n",
       "      fill: #FFFFFF;\n",
       "    }\n",
       "  </style>\n",
       "\n",
       "    <script>\n",
       "      const buttonEl =\n",
       "        document.querySelector('#df-0d515fb9-4b62-4665-bdc1-117ac487b4a8 button.colab-df-convert');\n",
       "      buttonEl.style.display =\n",
       "        google.colab.kernel.accessAllowed ? 'block' : 'none';\n",
       "\n",
       "      async function convertToInteractive(key) {\n",
       "        const element = document.querySelector('#df-0d515fb9-4b62-4665-bdc1-117ac487b4a8');\n",
       "        const dataTable =\n",
       "          await google.colab.kernel.invokeFunction('convertToInteractive',\n",
       "                                                    [key], {});\n",
       "        if (!dataTable) return;\n",
       "\n",
       "        const docLinkHtml = 'Like what you see? Visit the ' +\n",
       "          '<a target=\"_blank\" href=https://colab.research.google.com/notebooks/data_table.ipynb>data table notebook</a>'\n",
       "          + ' to learn more about interactive tables.';\n",
       "        element.innerHTML = '';\n",
       "        dataTable['output_type'] = 'display_data';\n",
       "        await google.colab.output.renderOutput(dataTable, element);\n",
       "        const docLink = document.createElement('div');\n",
       "        docLink.innerHTML = docLinkHtml;\n",
       "        element.appendChild(docLink);\n",
       "      }\n",
       "    </script>\n",
       "  </div>\n",
       "\n",
       "\n",
       "    </div>\n",
       "  </div>\n"
      ],
      "text/plain": [
       "Empty DataFrame\n",
       "Columns: [title, tag, artist, year, views, features, lyrics, id, language_cld3, language_ft, language]\n",
       "Index: []"
      ]
     },
     "execution_count": 96,
     "metadata": {},
     "output_type": "execute_result"
    }
   ],
   "source": [
    "top_views_df[top_views_df['artist'] == 'Un Buen Dia']"
   ]
  },
  {
   "cell_type": "code",
   "execution_count": null,
   "metadata": {
    "colab": {
     "base_uri": "https://localhost:8080/",
     "height": 53
    },
    "executionInfo": {
     "elapsed": 7,
     "status": "ok",
     "timestamp": 1731594208516,
     "user": {
      "displayName": "Jesus Santos Capote",
      "userId": "12226507682868270823"
     },
     "user_tz": -60
    },
    "id": "A8V5hGkD3qbo",
    "outputId": "7a7fd988-a900-44d5-affa-80fcc0b50cfe"
   },
   "outputs": [
    {
     "data": {
      "application/vnd.google.colaboratory.intrinsic+json": {
       "repr_error": "Out of range float values are not JSON compliant: nan",
       "type": "dataframe"
      },
      "text/html": [
       "\n",
       "  <div id=\"df-0d1cf50a-02c7-437f-afdb-0ccef49d187d\" class=\"colab-df-container\">\n",
       "    <div>\n",
       "<style scoped>\n",
       "    .dataframe tbody tr th:only-of-type {\n",
       "        vertical-align: middle;\n",
       "    }\n",
       "\n",
       "    .dataframe tbody tr th {\n",
       "        vertical-align: top;\n",
       "    }\n",
       "\n",
       "    .dataframe thead th {\n",
       "        text-align: right;\n",
       "    }\n",
       "</style>\n",
       "<table border=\"1\" class=\"dataframe\">\n",
       "  <thead>\n",
       "    <tr style=\"text-align: right;\">\n",
       "      <th></th>\n",
       "      <th>title</th>\n",
       "      <th>tag</th>\n",
       "      <th>artist</th>\n",
       "      <th>year</th>\n",
       "      <th>views</th>\n",
       "      <th>features</th>\n",
       "      <th>lyrics</th>\n",
       "      <th>id</th>\n",
       "      <th>language_cld3</th>\n",
       "      <th>language_ft</th>\n",
       "      <th>language</th>\n",
       "    </tr>\n",
       "  </thead>\n",
       "  <tbody>\n",
       "  </tbody>\n",
       "</table>\n",
       "</div>\n",
       "    <div class=\"colab-df-buttons\">\n",
       "\n",
       "  <div class=\"colab-df-container\">\n",
       "    <button class=\"colab-df-convert\" onclick=\"convertToInteractive('df-0d1cf50a-02c7-437f-afdb-0ccef49d187d')\"\n",
       "            title=\"Convert this dataframe to an interactive table.\"\n",
       "            style=\"display:none;\">\n",
       "\n",
       "  <svg xmlns=\"http://www.w3.org/2000/svg\" height=\"24px\" viewBox=\"0 -960 960 960\">\n",
       "    <path d=\"M120-120v-720h720v720H120Zm60-500h600v-160H180v160Zm220 220h160v-160H400v160Zm0 220h160v-160H400v160ZM180-400h160v-160H180v160Zm440 0h160v-160H620v160ZM180-180h160v-160H180v160Zm440 0h160v-160H620v160Z\"/>\n",
       "  </svg>\n",
       "    </button>\n",
       "\n",
       "  <style>\n",
       "    .colab-df-container {\n",
       "      display:flex;\n",
       "      gap: 12px;\n",
       "    }\n",
       "\n",
       "    .colab-df-convert {\n",
       "      background-color: #E8F0FE;\n",
       "      border: none;\n",
       "      border-radius: 50%;\n",
       "      cursor: pointer;\n",
       "      display: none;\n",
       "      fill: #1967D2;\n",
       "      height: 32px;\n",
       "      padding: 0 0 0 0;\n",
       "      width: 32px;\n",
       "    }\n",
       "\n",
       "    .colab-df-convert:hover {\n",
       "      background-color: #E2EBFA;\n",
       "      box-shadow: 0px 1px 2px rgba(60, 64, 67, 0.3), 0px 1px 3px 1px rgba(60, 64, 67, 0.15);\n",
       "      fill: #174EA6;\n",
       "    }\n",
       "\n",
       "    .colab-df-buttons div {\n",
       "      margin-bottom: 4px;\n",
       "    }\n",
       "\n",
       "    [theme=dark] .colab-df-convert {\n",
       "      background-color: #3B4455;\n",
       "      fill: #D2E3FC;\n",
       "    }\n",
       "\n",
       "    [theme=dark] .colab-df-convert:hover {\n",
       "      background-color: #434B5C;\n",
       "      box-shadow: 0px 1px 3px 1px rgba(0, 0, 0, 0.15);\n",
       "      filter: drop-shadow(0px 1px 2px rgba(0, 0, 0, 0.3));\n",
       "      fill: #FFFFFF;\n",
       "    }\n",
       "  </style>\n",
       "\n",
       "    <script>\n",
       "      const buttonEl =\n",
       "        document.querySelector('#df-0d1cf50a-02c7-437f-afdb-0ccef49d187d button.colab-df-convert');\n",
       "      buttonEl.style.display =\n",
       "        google.colab.kernel.accessAllowed ? 'block' : 'none';\n",
       "\n",
       "      async function convertToInteractive(key) {\n",
       "        const element = document.querySelector('#df-0d1cf50a-02c7-437f-afdb-0ccef49d187d');\n",
       "        const dataTable =\n",
       "          await google.colab.kernel.invokeFunction('convertToInteractive',\n",
       "                                                    [key], {});\n",
       "        if (!dataTable) return;\n",
       "\n",
       "        const docLinkHtml = 'Like what you see? Visit the ' +\n",
       "          '<a target=\"_blank\" href=https://colab.research.google.com/notebooks/data_table.ipynb>data table notebook</a>'\n",
       "          + ' to learn more about interactive tables.';\n",
       "        element.innerHTML = '';\n",
       "        dataTable['output_type'] = 'display_data';\n",
       "        await google.colab.output.renderOutput(dataTable, element);\n",
       "        const docLink = document.createElement('div');\n",
       "        docLink.innerHTML = docLinkHtml;\n",
       "        element.appendChild(docLink);\n",
       "      }\n",
       "    </script>\n",
       "  </div>\n",
       "\n",
       "\n",
       "    </div>\n",
       "  </div>\n"
      ],
      "text/plain": [
       "Empty DataFrame\n",
       "Columns: [title, tag, artist, year, views, features, lyrics, id, language_cld3, language_ft, language]\n",
       "Index: []"
      ]
     },
     "execution_count": 97,
     "metadata": {},
     "output_type": "execute_result"
    }
   ],
   "source": [
    "top_views_df[top_views_df['artist'] == 'Los Planetas']"
   ]
  },
  {
   "cell_type": "code",
   "execution_count": null,
   "metadata": {
    "colab": {
     "base_uri": "https://localhost:8080/",
     "height": 53
    },
    "executionInfo": {
     "elapsed": 276,
     "status": "ok",
     "timestamp": 1731594208785,
     "user": {
      "displayName": "Jesus Santos Capote",
      "userId": "12226507682868270823"
     },
     "user_tz": -60
    },
    "id": "HLYZHr4S3xSR",
    "outputId": "1c16d25f-b9ab-4a69-ae23-644804f62499"
   },
   "outputs": [
    {
     "data": {
      "application/vnd.google.colaboratory.intrinsic+json": {
       "repr_error": "Out of range float values are not JSON compliant: nan",
       "type": "dataframe"
      },
      "text/html": [
       "\n",
       "  <div id=\"df-86dfa897-36ac-412e-b920-d46c182f1999\" class=\"colab-df-container\">\n",
       "    <div>\n",
       "<style scoped>\n",
       "    .dataframe tbody tr th:only-of-type {\n",
       "        vertical-align: middle;\n",
       "    }\n",
       "\n",
       "    .dataframe tbody tr th {\n",
       "        vertical-align: top;\n",
       "    }\n",
       "\n",
       "    .dataframe thead th {\n",
       "        text-align: right;\n",
       "    }\n",
       "</style>\n",
       "<table border=\"1\" class=\"dataframe\">\n",
       "  <thead>\n",
       "    <tr style=\"text-align: right;\">\n",
       "      <th></th>\n",
       "      <th>title</th>\n",
       "      <th>tag</th>\n",
       "      <th>artist</th>\n",
       "      <th>year</th>\n",
       "      <th>views</th>\n",
       "      <th>features</th>\n",
       "      <th>lyrics</th>\n",
       "      <th>id</th>\n",
       "      <th>language_cld3</th>\n",
       "      <th>language_ft</th>\n",
       "      <th>language</th>\n",
       "    </tr>\n",
       "  </thead>\n",
       "  <tbody>\n",
       "  </tbody>\n",
       "</table>\n",
       "</div>\n",
       "    <div class=\"colab-df-buttons\">\n",
       "\n",
       "  <div class=\"colab-df-container\">\n",
       "    <button class=\"colab-df-convert\" onclick=\"convertToInteractive('df-86dfa897-36ac-412e-b920-d46c182f1999')\"\n",
       "            title=\"Convert this dataframe to an interactive table.\"\n",
       "            style=\"display:none;\">\n",
       "\n",
       "  <svg xmlns=\"http://www.w3.org/2000/svg\" height=\"24px\" viewBox=\"0 -960 960 960\">\n",
       "    <path d=\"M120-120v-720h720v720H120Zm60-500h600v-160H180v160Zm220 220h160v-160H400v160Zm0 220h160v-160H400v160ZM180-400h160v-160H180v160Zm440 0h160v-160H620v160ZM180-180h160v-160H180v160Zm440 0h160v-160H620v160Z\"/>\n",
       "  </svg>\n",
       "    </button>\n",
       "\n",
       "  <style>\n",
       "    .colab-df-container {\n",
       "      display:flex;\n",
       "      gap: 12px;\n",
       "    }\n",
       "\n",
       "    .colab-df-convert {\n",
       "      background-color: #E8F0FE;\n",
       "      border: none;\n",
       "      border-radius: 50%;\n",
       "      cursor: pointer;\n",
       "      display: none;\n",
       "      fill: #1967D2;\n",
       "      height: 32px;\n",
       "      padding: 0 0 0 0;\n",
       "      width: 32px;\n",
       "    }\n",
       "\n",
       "    .colab-df-convert:hover {\n",
       "      background-color: #E2EBFA;\n",
       "      box-shadow: 0px 1px 2px rgba(60, 64, 67, 0.3), 0px 1px 3px 1px rgba(60, 64, 67, 0.15);\n",
       "      fill: #174EA6;\n",
       "    }\n",
       "\n",
       "    .colab-df-buttons div {\n",
       "      margin-bottom: 4px;\n",
       "    }\n",
       "\n",
       "    [theme=dark] .colab-df-convert {\n",
       "      background-color: #3B4455;\n",
       "      fill: #D2E3FC;\n",
       "    }\n",
       "\n",
       "    [theme=dark] .colab-df-convert:hover {\n",
       "      background-color: #434B5C;\n",
       "      box-shadow: 0px 1px 3px 1px rgba(0, 0, 0, 0.15);\n",
       "      filter: drop-shadow(0px 1px 2px rgba(0, 0, 0, 0.3));\n",
       "      fill: #FFFFFF;\n",
       "    }\n",
       "  </style>\n",
       "\n",
       "    <script>\n",
       "      const buttonEl =\n",
       "        document.querySelector('#df-86dfa897-36ac-412e-b920-d46c182f1999 button.colab-df-convert');\n",
       "      buttonEl.style.display =\n",
       "        google.colab.kernel.accessAllowed ? 'block' : 'none';\n",
       "\n",
       "      async function convertToInteractive(key) {\n",
       "        const element = document.querySelector('#df-86dfa897-36ac-412e-b920-d46c182f1999');\n",
       "        const dataTable =\n",
       "          await google.colab.kernel.invokeFunction('convertToInteractive',\n",
       "                                                    [key], {});\n",
       "        if (!dataTable) return;\n",
       "\n",
       "        const docLinkHtml = 'Like what you see? Visit the ' +\n",
       "          '<a target=\"_blank\" href=https://colab.research.google.com/notebooks/data_table.ipynb>data table notebook</a>'\n",
       "          + ' to learn more about interactive tables.';\n",
       "        element.innerHTML = '';\n",
       "        dataTable['output_type'] = 'display_data';\n",
       "        await google.colab.output.renderOutput(dataTable, element);\n",
       "        const docLink = document.createElement('div');\n",
       "        docLink.innerHTML = docLinkHtml;\n",
       "        element.appendChild(docLink);\n",
       "      }\n",
       "    </script>\n",
       "  </div>\n",
       "\n",
       "\n",
       "    </div>\n",
       "  </div>\n"
      ],
      "text/plain": [
       "Empty DataFrame\n",
       "Columns: [title, tag, artist, year, views, features, lyrics, id, language_cld3, language_ft, language]\n",
       "Index: []"
      ]
     },
     "execution_count": 98,
     "metadata": {},
     "output_type": "execute_result"
    }
   ],
   "source": [
    "top_views_df[top_views_df['title'] == 'Los Planetas']"
   ]
  },
  {
   "cell_type": "markdown",
   "metadata": {
    "id": "veryETH70sGW"
   },
   "source": [
    "### Evaluation Discution\n",
    "In the case of the last YouTube link, \"Los Planetas - Un Buen Día,\" both the song and the artist are not present in the top_views_dataset. Consequently, the FAISS index will never find the exact song as a relevant neighbor. However, despite this, the FAISS index retrieves other Spanish songs as relevant neighbors, indicating that the language of the songs is well encoded in the embeddings. Therefore, it is not a bad result for this specific case. Given the above reasons, we will exclude it from the evaluation set.\n",
    "\n",
    "### Evaluation Metric\n",
    "I will use the Mean Average Precision for K=1. This will help determine the proportion of times when the first element retrieved by FAISS is the original song corresponding to the cover we use as input."
   ]
  },
  {
   "cell_type": "code",
   "execution_count": null,
   "metadata": {
    "colab": {
     "base_uri": "https://localhost:8080/"
    },
    "executionInfo": {
     "elapsed": 8,
     "status": "ok",
     "timestamp": 1731594208785,
     "user": {
      "displayName": "Jesus Santos Capote",
      "userId": "12226507682868270823"
     },
     "user_tz": -60
    },
    "id": "BWVi4joxY2vi",
    "outputId": "dbb62648-1dbd-4d64-ef2e-ab414148b800"
   },
   "outputs": [
    {
     "name": "stdout",
     "output_type": "stream",
     "text": [
      "[({'title': 'Shape of You', 'artist': 'Ed Sheeran', 'distance': 29.463589}, {'title': 'Shape of You', 'artist': 'Ed Sheeran'}), ({'title': 'Believer', 'artist': 'Imagine Dragons', 'distance': 23.28256}, {'title': 'Believer', 'artist': 'Imagine Dragons'}), ({'title': 'Rap God', 'artist': 'Eminem', 'distance': 13.217316}, {'title': 'Rap God', 'artist': 'Eminem'}), ({'title': 'Blueberry Faygo', 'artist': 'Lil Mosey', 'distance': 56.441013}, {'title': 'Get Lucky', 'artist': 'Daft Punk'}), ({'title': 'Marvins Room', 'artist': 'Drake', 'distance': 37.253536}, {'title': 'Get Lucky', 'artist': 'Daft Punk'}), ({'title': 'Pink Matter', 'artist': 'Frank Ocean', 'distance': 28.029398}, {'title': 'Bohemian Rhapsody', 'artist': 'Queen'}), ({'title': 'Star Shopping', 'artist': 'Lil Peep', 'distance': 25.51746}, {'title': 'The Hills', 'artist': 'The Weeknd'})]\n"
     ]
    }
   ],
   "source": [
    "eval_set = []\n",
    "real_songs_info = [\n",
    "    { \"title\": 'Shape of You', \"artist\": 'Ed Sheeran'},\n",
    "    { \"title\": 'Believer', \"artist\": 'Imagine Dragons'},\n",
    "    { \"title\": 'Rap God', \"artist\": 'Eminem' },\n",
    "    { \"title\": 'Get Lucky', \"artist\": 'Daft Punk'},\n",
    "    { \"title\": 'Get Lucky', \"artist\": 'Daft Punk'},\n",
    "    { \"title\": 'Bohemian Rhapsody', \"artist\": 'Queen'},\n",
    "    { \"title\": 'The Hills', \"artist\": 'The Weeknd'},\n",
    "]\n",
    "\n",
    "for item, original_song_info in zip(covers, real_songs_info):\n",
    "  # Only the first item is important in K=1 Precision\n",
    "  eval_item = (item[0], original_song_info)\n",
    "  eval_set.append(eval_item)\n",
    "\n",
    "print(eval_set)"
   ]
  },
  {
   "cell_type": "code",
   "execution_count": null,
   "metadata": {
    "id": "vAvGdBN4Y2yD"
   },
   "outputs": [],
   "source": [
    "def get_precision_k1(true_neighbor, faiss_neighbor):\n",
    "  if true_neighbor['title'] == faiss_neighbor['title'] and true_neighbor['artist'] == faiss_neighbor['artist']:\n",
    "    return 1\n",
    "  else:\n",
    "    return 0"
   ]
  },
  {
   "cell_type": "code",
   "execution_count": null,
   "metadata": {
    "id": "tEyl_uXTY20X"
   },
   "outputs": [],
   "source": [
    "def get_Mean_Average_Precision_K1(eval_set):\n",
    "  presicions = []\n",
    "  for faiss_item, original_song_info in eval_set:\n",
    "    presicions.append(get_precision_k1(original_song_info, faiss_item))\n",
    "  return np.mean(presicions)\n"
   ]
  },
  {
   "cell_type": "code",
   "execution_count": null,
   "metadata": {
    "colab": {
     "base_uri": "https://localhost:8080/"
    },
    "executionInfo": {
     "elapsed": 6,
     "status": "ok",
     "timestamp": 1731594208785,
     "user": {
      "displayName": "Jesus Santos Capote",
      "userId": "12226507682868270823"
     },
     "user_tz": -60
    },
    "id": "oCW3g3rBuVwU",
    "outputId": "af35f4bb-f02e-4cf8-b17d-817586739b88"
   },
   "outputs": [
    {
     "name": "stdout",
     "output_type": "stream",
     "text": [
      "Mean Average Precision K=1:  0.42857142857142855\n"
     ]
    }
   ],
   "source": [
    "print(\"Mean Average Precision K=1: \", get_Mean_Average_Precision_K1(eval_set))"
   ]
  }
 ],
 "metadata": {
  "accelerator": "GPU",
  "colab": {
   "gpuType": "T4",
   "provenance": [
    {
     "file_id": "1EQdG1Ydisqzyvf-fhuWCFVIZr8VjnOt0",
     "timestamp": 1731342779519
    }
   ]
  },
  "kernelspec": {
   "display_name": "Python 3",
   "name": "python3"
  },
  "language_info": {
   "codemirror_mode": {
    "name": "ipython",
    "version": 3
   },
   "file_extension": ".py",
   "mimetype": "text/x-python",
   "name": "python",
   "nbconvert_exporter": "python",
   "pygments_lexer": "ipython3",
   "version": "3.13.0"
  }
 },
 "nbformat": 4,
 "nbformat_minor": 0
}
